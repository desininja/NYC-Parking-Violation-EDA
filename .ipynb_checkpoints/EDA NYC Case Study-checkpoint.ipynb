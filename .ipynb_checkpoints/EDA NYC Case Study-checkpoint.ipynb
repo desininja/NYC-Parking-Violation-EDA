{
 "cells": [
  {
   "cell_type": "markdown",
   "metadata": {},
   "source": [
    "Objectives of the Case Study\n",
    "Primarily, this case study is meant as a deep dive into the usage of Spark. As you saw while working with Spark, its syntax behaves differently from a regular Python syntax. One of the major objectives of this case study is to gain familiarity with how analysis works in PySpark as opposed to base Python.\n",
    "\n",
    "Learning the basic idea behind using functions in PySpark can help in using other libraries like SparkR. If you are in a company where R is a primary language, you can easily pick up SparkR syntax and use Spark’s processing power.\n",
    "\n",
    "The process of running a model-building command boils down to a few lines of code. While drawing inferences from data, the most time-consuming step is preparing the data up to the point of model building. So, this case study will focus more on exploratory analysis."
   ]
  },
  {
   "cell_type": "markdown",
   "metadata": {},
   "source": [
    "Problem Statement\n",
    "Big data analytics allows you to analyse data at scale. It has applications in almost every industry in the world. Let’s consider an unconventional application that you wouldn’t ordinarily encounter.\n",
    "\n",
    " \n",
    "\n",
    "New York City is a thriving metropolis. Just like most other metros its size, one of the biggest problems its citizens face is parking. The classic combination of a huge number of cars and cramped geography leads to a huge number of parking tickets.\n",
    "\n",
    " \n",
    "\n",
    "In an attempt to scientifically analyse this phenomenon, the NYC Police Department has collected data for parking tickets. Of these, the data files for multiple years are publicly available on Kaggle. We will try and perform some exploratory analysis on a part of this data. Spark will allow us to analyse the full files at high speeds as opposed to taking a series of random samples that will approximate the population. For the scope of this analysis, we will analyse the parking tickets over the year 2017. \n",
    "\n",
    " \n",
    "\n",
    "Note: Although the broad goal of any analysis of this type is to have better parking and fewer tickets, we are not looking for recommendations on how to reduce the number of parking tickets—there are no specific points reserved for this.\n",
    "\n",
    " \n",
    "\n",
    "The purpose of this case study is to conduct an exploratory data analysis that will help you understand the data. Since the size of the dataset is large, your queries will take some time to run, and you will need to identify the correct queries quicker. The questions given below will guide your analysis.\n",
    "\n",
    " \n",
    "\n",
    "The dataset structure is available on this page along with the data.\n",
    "\n",
    "https://www.kaggle.com/new-york-city/nyc-parking-tickets/data"
   ]
  },
  {
   "cell_type": "markdown",
   "metadata": {},
   "source": [
    "General Guidelines:\n",
    "The queries may take time to get executed. Please have some patience. If you are getting errors with correct queries, restart the PySpark session and try again, as the session may have expired.\n",
    "Keep a copy of the commands on your local drive or S3 so that you do not lose any work in case of session expiry or you need to close the EMR instance for the timebeing. \n",
    "If you want to run SQL commands, create an SQL view first. Also, if you make any changes in the table (like substitution or dropping null values), please ensure that you update the SQL view related to that table for further analysis.\n",
    "Remember to stop Spark whenever you finish working on the cluster. Use spark.stop()."
   ]
  },
  {
   "cell_type": "markdown",
   "metadata": {},
   "source": [
    "# Questions to Be Answered in the Analysis\n",
    "The following analysis should be performed on PySpark mounted on your EMR notebook instance, using the PySpark library. Remember that you need to summarise the analysis with your insights along with the code.\n",
    "\n",
    " \n",
    "\n",
    "## Examine the data\n",
    "\n",
    "- Find the total number of tickets for the year.\n",
    "- Find out the number of unique states from where the cars that got parking tickets came. (Hint: Use the column 'Registration State'.)\n",
    "    There is a numeric entry '99' in the column, which should be corrected. Replace it with the state having the maximum entries. Provide the number of unique states again.\n",
    " \n",
    "\n",
    "### Aggregation tasks\n",
    "\n",
    "- How often does each violation code occur? Display the frequency of the top five violation codes.\n",
    "- How often does each 'vehicle body type' get a parking ticket? How about the 'vehicle make'? (Hint: Find the top 5 for both.)\n",
    "- A precinct is a police station that has a certain zone of the city under its command. Find the (5 highest) frequencies of tickets for each of the following:\n",
    "    - 'Violation Precinct' (This is the precinct of the zone where the violation occurred). Using this, can you draw any insights for parking violations in any specific areas of the city?\n",
    "    - 'Issuer Precinct' (This is the precinct that issued the ticket.) Here, you would have noticed that the dataframe has the 'Violating Precinct' or 'Issuing Precinct' as '0'. These are erroneous entries. Hence, you need to provide the records for five correct precincts. (Hint: Print the top six entries after sorting.)\n",
    "- Find the violation code frequencies for three precincts that have issued the most number of tickets. Do these precinct zones have an exceptionally high frequency of certain violation codes? Are these codes common across precincts? \n",
    "    (Hint: In the SQL view, use the 'where' attribute to filter among three precincts.)\n",
    "- Find out the properties of parking violations across different times of the day:\n",
    "    - Find a way to deal with missing values, if any.\n",
    "        (Hint: Check for the null values using 'isNull' under the SQL. Also, to remove the null values, check the 'dropna' command in the API documentation.)\n",
    "\n",
    "    - The Violation Time field is specified in a strange format. Find a way to make this a time attribute that you can use to divide into groups.\n",
    "\n",
    "    - Divide 24 hours into six equal discrete bins of time. Choose the intervals as you see fit. For each of these groups, find the three most commonly occurring violations.\n",
    "        (Hint: Use the CASE-WHEN in SQL view to segregate into bins. To find the most commonly occurring violations, you can use an approach similar to the one mentioned in the hint for question 4.)\n",
    "\n",
    "    - Now, try another direction. For the three most commonly occurring violation codes, find the most common time of the day (in terms of the bins from the previous part).\n",
    "\n",
    "- Let’s try and find some seasonality in this data:\n",
    "\n",
    "    - First, divide the year into a certain number of seasons, and find the frequencies of tickets for each season. (Hint: Use Issue Date to segregate into seasons.)\n",
    "\n",
    "    - Then, find the three most common violations for each of these seasons.\n",
    "        (Hint: You can use an approach similar to the one mentioned in the hint for question 4.)\n",
    "\n",
    "- The fines collected from all the instances of parking violation constitute a source of revenue for the NYC Police Department. Let’s take an example of estimating this for the three most commonly occurring codes:\n",
    "    - Find the total occurrences of the three most common violation codes.\n",
    "    - Then, visit the website:\n",
    "        http://www1.nyc.gov/site/finance/vehicles/services-violation-codes.page\n",
    "        It lists the fines associated with different violation codes. They’re divided into two categories: one for the highest-density locations in the city and the other for the rest of the city. For the sake of simplicity, take the average of the two.\n",
    "    - Using this information, find the total amount collected for the three violation codes with the maximum tickets. State the code that has the highest total collection.\n",
    "    - What can you intuitively infer from these findings?"
   ]
  },
  {
   "cell_type": "code",
   "execution_count": 1,
   "metadata": {},
   "outputs": [],
   "source": [
    "from pyspark.sql import SparkSession\n",
    "from pyspark.sql.functions import *\n",
    "from pyspark.sql.types import *"
   ]
  },
  {
   "cell_type": "code",
   "execution_count": 2,
   "metadata": {},
   "outputs": [],
   "source": [
    "spark = SparkSession.builder.appName('NYC EDA').getOrCreate()"
   ]
  },
  {
   "cell_type": "code",
   "execution_count": 3,
   "metadata": {},
   "outputs": [],
   "source": [
    "spark.conf.set(\"spark.sql.legacy.timeParserPolicy\", \"LEGACY\")"
   ]
  },
  {
   "cell_type": "code",
   "execution_count": 4,
   "metadata": {},
   "outputs": [],
   "source": [
    "df = spark.read.csv(\"Parking_Violations_2017.csv\",inferSchema=True, header=True,sep=',')"
   ]
  },
  {
   "cell_type": "code",
   "execution_count": 5,
   "metadata": {},
   "outputs": [
    {
     "name": "stdout",
     "output_type": "stream",
     "text": [
      "root\n",
      " |-- Summons Number: long (nullable = true)\n",
      " |-- Plate ID: string (nullable = true)\n",
      " |-- Registration State: string (nullable = true)\n",
      " |-- Plate Type: string (nullable = true)\n",
      " |-- Issue Date: string (nullable = true)\n",
      " |-- Violation Code: integer (nullable = true)\n",
      " |-- Vehicle Body Type: string (nullable = true)\n",
      " |-- Vehicle Make: string (nullable = true)\n",
      " |-- Issuing Agency: string (nullable = true)\n",
      " |-- Street Code1: integer (nullable = true)\n",
      " |-- Street Code2: integer (nullable = true)\n",
      " |-- Street Code3: integer (nullable = true)\n",
      " |-- Vehicle Expiration Date: integer (nullable = true)\n",
      " |-- Violation Location: integer (nullable = true)\n",
      " |-- Violation Precinct: integer (nullable = true)\n",
      " |-- Issuer Precinct: integer (nullable = true)\n",
      " |-- Issuer Code: integer (nullable = true)\n",
      " |-- Issuer Command: string (nullable = true)\n",
      " |-- Issuer Squad: string (nullable = true)\n",
      " |-- Violation Time: string (nullable = true)\n",
      " |-- Time First Observed: string (nullable = true)\n",
      " |-- Violation County: string (nullable = true)\n",
      " |-- Violation In Front Of Or Opposite: string (nullable = true)\n",
      " |-- House Number: string (nullable = true)\n",
      " |-- Street Name: string (nullable = true)\n",
      " |-- Intersecting Street: string (nullable = true)\n",
      " |-- Date First Observed: integer (nullable = true)\n",
      " |-- Law Section: integer (nullable = true)\n",
      " |-- Sub Division: string (nullable = true)\n",
      " |-- Violation Legal Code: string (nullable = true)\n",
      " |-- Days Parking In Effect    : string (nullable = true)\n",
      " |-- From Hours In Effect: string (nullable = true)\n",
      " |-- To Hours In Effect: string (nullable = true)\n",
      " |-- Vehicle Color: string (nullable = true)\n",
      " |-- Unregistered Vehicle?: integer (nullable = true)\n",
      " |-- Vehicle Year: integer (nullable = true)\n",
      " |-- Meter Number: string (nullable = true)\n",
      " |-- Feet From Curb: integer (nullable = true)\n",
      " |-- Violation Post Code: string (nullable = true)\n",
      " |-- Violation Description: string (nullable = true)\n",
      " |-- No Standing or Stopping Violation: string (nullable = true)\n",
      " |-- Hydrant Violation: string (nullable = true)\n",
      " |-- Double Parking Violation: string (nullable = true)\n",
      "\n"
     ]
    }
   ],
   "source": [
    "df.printSchema()"
   ]
  },
  {
   "cell_type": "code",
   "execution_count": 6,
   "metadata": {},
   "outputs": [
    {
     "name": "stdout",
     "output_type": "stream",
     "text": [
      "+--------------+--------+------------------+----------+----------+--------------+-----------------+------------+--------------+------------+------------+------------+-----------------------+------------------+------------------+---------------+-----------+--------------+------------+--------------+-------------------+----------------+---------------------------------+------------+--------------------+-------------------+-------------------+-----------+------------+--------------------+--------------------------+--------------------+------------------+-------------+---------------------+------------+------------+--------------+-------------------+----------------------------+---------------------------------+-----------------+------------------------+\n",
      "|Summons Number|Plate ID|Registration State|Plate Type|Issue Date|Violation Code|Vehicle Body Type|Vehicle Make|Issuing Agency|Street Code1|Street Code2|Street Code3|Vehicle Expiration Date|Violation Location|Violation Precinct|Issuer Precinct|Issuer Code|Issuer Command|Issuer Squad|Violation Time|Time First Observed|Violation County|Violation In Front Of Or Opposite|House Number|Street Name         |Intersecting Street|Date First Observed|Law Section|Sub Division|Violation Legal Code|Days Parking In Effect    |From Hours In Effect|To Hours In Effect|Vehicle Color|Unregistered Vehicle?|Vehicle Year|Meter Number|Feet From Curb|Violation Post Code|Violation Description       |No Standing or Stopping Violation|Hydrant Violation|Double Parking Violation|\n",
      "+--------------+--------+------------------+----------+----------+--------------+-----------------+------------+--------------+------------+------------+------------+-----------------------+------------------+------------------+---------------+-----------+--------------+------------+--------------+-------------------+----------------+---------------------------------+------------+--------------------+-------------------+-------------------+-----------+------------+--------------------+--------------------------+--------------------+------------------+-------------+---------------------+------------+------------+--------------+-------------------+----------------------------+---------------------------------+-----------------+------------------------+\n",
      "|5092469481    |GZH7067 |NY                |PAS       |07/10/2016|7             |SUBN             |TOYOT       |V             |0           |0           |0           |0                      |null              |0                 |0              |0          |null          |null        |0143A         |null               |BX              |null                             |null        |ALLERTON AVE (W/B) @|BARNES AVE         |0                  |1111       |D           |T                   |null                      |null                |null              |GY           |null                 |2001        |null        |0             |null               |FAILURE TO STOP AT RED LIGHT|null                             |null             |null                    |\n",
      "|5092451658    |GZH7067 |NY                |PAS       |07/08/2016|7             |SUBN             |TOYOT       |V             |0           |0           |0           |0                      |null              |0                 |0              |0          |null          |null        |0400P         |null               |BX              |null                             |null        |ALLERTON AVE (W/B) @|BARNES AVE         |0                  |1111       |D           |T                   |null                      |null                |null              |GY           |null                 |2001        |null        |0             |null               |FAILURE TO STOP AT RED LIGHT|null                             |null             |null                    |\n",
      "|4006265037    |FZX9232 |NY                |PAS       |08/23/2016|5             |SUBN             |FORD        |V             |0           |0           |0           |0                      |null              |0                 |0              |0          |null          |null        |0233P         |null               |BX              |null                             |null        |SB WEBSTER AVE @ E 1|94TH ST            |0                  |1111       |C           |T                   |null                      |null                |null              |BK           |null                 |2004        |null        |0             |null               |BUS LANE VIOLATION          |null                             |null             |null                    |\n",
      "+--------------+--------+------------------+----------+----------+--------------+-----------------+------------+--------------+------------+------------+------------+-----------------------+------------------+------------------+---------------+-----------+--------------+------------+--------------+-------------------+----------------+---------------------------------+------------+--------------------+-------------------+-------------------+-----------+------------+--------------------+--------------------------+--------------------+------------------+-------------+---------------------+------------+------------+--------------+-------------------+----------------------------+---------------------------------+-----------------+------------------------+\n",
      "only showing top 3 rows\n",
      "\n"
     ]
    }
   ],
   "source": [
    "df.show(3,False)"
   ]
  },
  {
   "cell_type": "markdown",
   "metadata": {},
   "source": [
    "Examine the data\n",
    "Find the total number of tickets for the year.\n",
    "Find out the number of unique states from where the cars that got parking tickets came. (Hint: Use the column 'Registration State'.) There is a numeric entry '99' in the column, which should be corrected. Replace it with the state having the maximum entries. Provide the number of unique states again."
   ]
  },
  {
   "cell_type": "code",
   "execution_count": 7,
   "metadata": {},
   "outputs": [],
   "source": [
    "date_pattern = 'dd/MM/YYYY'\n",
    "df2 = df.withColumn('Issue Date',to_timestamp(df['Issue Date'],date_pattern))"
   ]
  },
  {
   "cell_type": "code",
   "execution_count": 8,
   "metadata": {},
   "outputs": [
    {
     "name": "stdout",
     "output_type": "stream",
     "text": [
      "root\n",
      " |-- Summons Number: long (nullable = true)\n",
      " |-- Plate ID: string (nullable = true)\n",
      " |-- Registration State: string (nullable = true)\n",
      " |-- Plate Type: string (nullable = true)\n",
      " |-- Issue Date: timestamp (nullable = true)\n",
      " |-- Violation Code: integer (nullable = true)\n",
      " |-- Vehicle Body Type: string (nullable = true)\n",
      " |-- Vehicle Make: string (nullable = true)\n",
      " |-- Issuing Agency: string (nullable = true)\n",
      " |-- Street Code1: integer (nullable = true)\n",
      " |-- Street Code2: integer (nullable = true)\n",
      " |-- Street Code3: integer (nullable = true)\n",
      " |-- Vehicle Expiration Date: integer (nullable = true)\n",
      " |-- Violation Location: integer (nullable = true)\n",
      " |-- Violation Precinct: integer (nullable = true)\n",
      " |-- Issuer Precinct: integer (nullable = true)\n",
      " |-- Issuer Code: integer (nullable = true)\n",
      " |-- Issuer Command: string (nullable = true)\n",
      " |-- Issuer Squad: string (nullable = true)\n",
      " |-- Violation Time: string (nullable = true)\n",
      " |-- Time First Observed: string (nullable = true)\n",
      " |-- Violation County: string (nullable = true)\n",
      " |-- Violation In Front Of Or Opposite: string (nullable = true)\n",
      " |-- House Number: string (nullable = true)\n",
      " |-- Street Name: string (nullable = true)\n",
      " |-- Intersecting Street: string (nullable = true)\n",
      " |-- Date First Observed: integer (nullable = true)\n",
      " |-- Law Section: integer (nullable = true)\n",
      " |-- Sub Division: string (nullable = true)\n",
      " |-- Violation Legal Code: string (nullable = true)\n",
      " |-- Days Parking In Effect    : string (nullable = true)\n",
      " |-- From Hours In Effect: string (nullable = true)\n",
      " |-- To Hours In Effect: string (nullable = true)\n",
      " |-- Vehicle Color: string (nullable = true)\n",
      " |-- Unregistered Vehicle?: integer (nullable = true)\n",
      " |-- Vehicle Year: integer (nullable = true)\n",
      " |-- Meter Number: string (nullable = true)\n",
      " |-- Feet From Curb: integer (nullable = true)\n",
      " |-- Violation Post Code: string (nullable = true)\n",
      " |-- Violation Description: string (nullable = true)\n",
      " |-- No Standing or Stopping Violation: string (nullable = true)\n",
      " |-- Hydrant Violation: string (nullable = true)\n",
      " |-- Double Parking Violation: string (nullable = true)\n",
      "\n"
     ]
    }
   ],
   "source": [
    "df2.printSchema()"
   ]
  },
  {
   "cell_type": "code",
   "execution_count": 9,
   "metadata": {},
   "outputs": [
    {
     "name": "stdout",
     "output_type": "stream",
     "text": [
      "+--------------+--------+------------------+----------+-------------------+--------------+-----------------+------------+--------------+------------+------------+------------+-----------------------+------------------+------------------+---------------+-----------+--------------+------------+--------------+-------------------+----------------+---------------------------------+------------+--------------------+-------------------+-------------------+-----------+------------+--------------------+--------------------------+--------------------+------------------+-------------+---------------------+------------+------------+--------------+-------------------+----------------------------+---------------------------------+-----------------+------------------------+\n",
      "|Summons Number|Plate ID|Registration State|Plate Type|Issue Date         |Violation Code|Vehicle Body Type|Vehicle Make|Issuing Agency|Street Code1|Street Code2|Street Code3|Vehicle Expiration Date|Violation Location|Violation Precinct|Issuer Precinct|Issuer Code|Issuer Command|Issuer Squad|Violation Time|Time First Observed|Violation County|Violation In Front Of Or Opposite|House Number|Street Name         |Intersecting Street|Date First Observed|Law Section|Sub Division|Violation Legal Code|Days Parking In Effect    |From Hours In Effect|To Hours In Effect|Vehicle Color|Unregistered Vehicle?|Vehicle Year|Meter Number|Feet From Curb|Violation Post Code|Violation Description       |No Standing or Stopping Violation|Hydrant Violation|Double Parking Violation|\n",
      "+--------------+--------+------------------+----------+-------------------+--------------+-----------------+------------+--------------+------------+------------+------------+-----------------------+------------------+------------------+---------------+-----------+--------------+------------+--------------+-------------------+----------------+---------------------------------+------------+--------------------+-------------------+-------------------+-----------+------------+--------------------+--------------------------+--------------------+------------------+-------------+---------------------+------------+------------+--------------+-------------------+----------------------------+---------------------------------+-----------------+------------------------+\n",
      "|5092469481    |GZH7067 |NY                |PAS       |2015-12-27 00:00:00|7             |SUBN             |TOYOT       |V             |0           |0           |0           |0                      |null              |0                 |0              |0          |null          |null        |0143A         |null               |BX              |null                             |null        |ALLERTON AVE (W/B) @|BARNES AVE         |0                  |1111       |D           |T                   |null                      |null                |null              |GY           |null                 |2001        |null        |0             |null               |FAILURE TO STOP AT RED LIGHT|null                             |null             |null                    |\n",
      "|5092451658    |GZH7067 |NY                |PAS       |2015-12-27 00:00:00|7             |SUBN             |TOYOT       |V             |0           |0           |0           |0                      |null              |0                 |0              |0          |null          |null        |0400P         |null               |BX              |null                             |null        |ALLERTON AVE (W/B) @|BARNES AVE         |0                  |1111       |D           |T                   |null                      |null                |null              |GY           |null                 |2001        |null        |0             |null               |FAILURE TO STOP AT RED LIGHT|null                             |null             |null                    |\n",
      "|4006265037    |FZX9232 |NY                |PAS       |2015-12-27 00:00:00|5             |SUBN             |FORD        |V             |0           |0           |0           |0                      |null              |0                 |0              |0          |null          |null        |0233P         |null               |BX              |null                             |null        |SB WEBSTER AVE @ E 1|94TH ST            |0                  |1111       |C           |T                   |null                      |null                |null              |BK           |null                 |2004        |null        |0             |null               |BUS LANE VIOLATION          |null                             |null             |null                    |\n",
      "+--------------+--------+------------------+----------+-------------------+--------------+-----------------+------------+--------------+------------+------------+------------+-----------------------+------------------+------------------+---------------+-----------+--------------+------------+--------------+-------------------+----------------+---------------------------------+------------+--------------------+-------------------+-------------------+-----------+------------+--------------------+--------------------------+--------------------+------------------+-------------+---------------------+------------+------------+--------------+-------------------+----------------------------+---------------------------------+-----------------+------------------------+\n",
      "only showing top 3 rows\n",
      "\n"
     ]
    }
   ],
   "source": [
    "df2.show(3,truncate=False)"
   ]
  },
  {
   "cell_type": "code",
   "execution_count": 10,
   "metadata": {},
   "outputs": [],
   "source": [
    "df2 = df2.withColumn(\"Year_Column\",year(\"Issue Date\"))"
   ]
  },
  {
   "cell_type": "code",
   "execution_count": 11,
   "metadata": {},
   "outputs": [
    {
     "name": "stdout",
     "output_type": "stream",
     "text": [
      "root\n",
      " |-- Summons Number: long (nullable = true)\n",
      " |-- Plate ID: string (nullable = true)\n",
      " |-- Registration State: string (nullable = true)\n",
      " |-- Plate Type: string (nullable = true)\n",
      " |-- Issue Date: timestamp (nullable = true)\n",
      " |-- Violation Code: integer (nullable = true)\n",
      " |-- Vehicle Body Type: string (nullable = true)\n",
      " |-- Vehicle Make: string (nullable = true)\n",
      " |-- Issuing Agency: string (nullable = true)\n",
      " |-- Street Code1: integer (nullable = true)\n",
      " |-- Street Code2: integer (nullable = true)\n",
      " |-- Street Code3: integer (nullable = true)\n",
      " |-- Vehicle Expiration Date: integer (nullable = true)\n",
      " |-- Violation Location: integer (nullable = true)\n",
      " |-- Violation Precinct: integer (nullable = true)\n",
      " |-- Issuer Precinct: integer (nullable = true)\n",
      " |-- Issuer Code: integer (nullable = true)\n",
      " |-- Issuer Command: string (nullable = true)\n",
      " |-- Issuer Squad: string (nullable = true)\n",
      " |-- Violation Time: string (nullable = true)\n",
      " |-- Time First Observed: string (nullable = true)\n",
      " |-- Violation County: string (nullable = true)\n",
      " |-- Violation In Front Of Or Opposite: string (nullable = true)\n",
      " |-- House Number: string (nullable = true)\n",
      " |-- Street Name: string (nullable = true)\n",
      " |-- Intersecting Street: string (nullable = true)\n",
      " |-- Date First Observed: integer (nullable = true)\n",
      " |-- Law Section: integer (nullable = true)\n",
      " |-- Sub Division: string (nullable = true)\n",
      " |-- Violation Legal Code: string (nullable = true)\n",
      " |-- Days Parking In Effect    : string (nullable = true)\n",
      " |-- From Hours In Effect: string (nullable = true)\n",
      " |-- To Hours In Effect: string (nullable = true)\n",
      " |-- Vehicle Color: string (nullable = true)\n",
      " |-- Unregistered Vehicle?: integer (nullable = true)\n",
      " |-- Vehicle Year: integer (nullable = true)\n",
      " |-- Meter Number: string (nullable = true)\n",
      " |-- Feet From Curb: integer (nullable = true)\n",
      " |-- Violation Post Code: string (nullable = true)\n",
      " |-- Violation Description: string (nullable = true)\n",
      " |-- No Standing or Stopping Violation: string (nullable = true)\n",
      " |-- Hydrant Violation: string (nullable = true)\n",
      " |-- Double Parking Violation: string (nullable = true)\n",
      " |-- Year_Column: integer (nullable = true)\n",
      "\n"
     ]
    }
   ],
   "source": [
    "df2.printSchema()"
   ]
  },
  {
   "cell_type": "code",
   "execution_count": 12,
   "metadata": {},
   "outputs": [
    {
     "name": "stdout",
     "output_type": "stream",
     "text": [
      "+-----------+-------+\n",
      "|Year_Column|count  |\n",
      "+-----------+-------+\n",
      "|2017       |5432975|\n",
      "|2015       |5368391|\n",
      "|2018       |472    |\n",
      "|2014       |419    |\n",
      "|1999       |185    |\n",
      "|2012       |157    |\n",
      "|2013       |120    |\n",
      "|2026       |50     |\n",
      "|2009       |48     |\n",
      "|2006       |26     |\n",
      "|2025       |24     |\n",
      "|2019       |22     |\n",
      "|2020       |22     |\n",
      "|2010       |22     |\n",
      "|2029       |12     |\n",
      "|2027       |8      |\n",
      "|2023       |8      |\n",
      "|2024       |6      |\n",
      "|2030       |5      |\n",
      "|2068       |5      |\n",
      "+-----------+-------+\n",
      "only showing top 20 rows\n",
      "\n"
     ]
    }
   ],
   "source": [
    "df2.select(\"Year_Column\").groupBy('Year_Column').count().orderBy('count',ascending=False).show(truncate=False)"
   ]
  },
  {
   "cell_type": "code",
   "execution_count": 13,
   "metadata": {},
   "outputs": [
    {
     "name": "stdout",
     "output_type": "stream",
     "text": [
      "+-------------------+\n",
      "|Issue Date         |\n",
      "+-------------------+\n",
      "|2068-01-01 00:00:00|\n",
      "|2068-12-30 00:00:00|\n",
      "|2068-12-30 00:00:00|\n",
      "|2068-12-30 00:00:00|\n",
      "|2068-12-30 00:00:00|\n",
      "+-------------------+\n",
      "\n"
     ]
    }
   ],
   "source": [
    "# Find the total number of tickets for the year.\n",
    "df2.select('Issue Date').filter(df2['Year_Column']==2068).show(truncate=False)"
   ]
  },
  {
   "cell_type": "code",
   "execution_count": 14,
   "metadata": {},
   "outputs": [],
   "source": [
    "#Find out the number of unique states from where the cars that got parking tickets came. \n",
    "#(Hint: Use the column 'Registration State'.) There is a numeric entry '99' in the column, which should be \n",
    "#corrected. Replace it with the state having the maximum entries. Provide the number of unique states again."
   ]
  },
  {
   "cell_type": "code",
   "execution_count": 15,
   "metadata": {},
   "outputs": [
    {
     "data": {
      "text/plain": [
       "67"
      ]
     },
     "execution_count": 15,
     "metadata": {},
     "output_type": "execute_result"
    }
   ],
   "source": [
    "df2.select(\"Registration State\").distinct().count()"
   ]
  },
  {
   "cell_type": "code",
   "execution_count": 16,
   "metadata": {},
   "outputs": [
    {
     "name": "stdout",
     "output_type": "stream",
     "text": [
      "+------------------+-------+\n",
      "|Registration State|count  |\n",
      "+------------------+-------+\n",
      "|NY                |8481061|\n",
      "|NJ                |925965 |\n",
      "|PA                |285419 |\n",
      "|FL                |144556 |\n",
      "|CT                |141088 |\n",
      "|MA                |85547  |\n",
      "|IN                |80749  |\n",
      "|VA                |72626  |\n",
      "|MD                |61800  |\n",
      "|NC                |55806  |\n",
      "|IL                |37329  |\n",
      "|GA                |36852  |\n",
      "|99                |36625  |\n",
      "|TX                |36516  |\n",
      "|AZ                |26426  |\n",
      "|OH                |25302  |\n",
      "|CA                |24260  |\n",
      "|SC                |21836  |\n",
      "|ME                |21574  |\n",
      "|MN                |18227  |\n",
      "|OK                |18165  |\n",
      "|TN                |17275  |\n",
      "|DE                |16325  |\n",
      "|MI                |15703  |\n",
      "|RI                |12224  |\n",
      "|NH                |8752   |\n",
      "|VT                |7367   |\n",
      "|AL                |6891   |\n",
      "|WA                |6311   |\n",
      "|ON                |5601   |\n",
      "|OR                |5483   |\n",
      "|MO                |4454   |\n",
      "|QB                |4406   |\n",
      "|DC                |4250   |\n",
      "|WI                |4197   |\n",
      "|IA                |4186   |\n",
      "|CO                |4093   |\n",
      "|KY                |3833   |\n",
      "|MS                |3599   |\n",
      "|LA                |3466   |\n",
      "|DP                |3192   |\n",
      "|ID                |2920   |\n",
      "|AR                |2621   |\n",
      "|WV                |2545   |\n",
      "|NM                |2322   |\n",
      "|SD                |1865   |\n",
      "|NV                |1846   |\n",
      "|KS                |1501   |\n",
      "|NE                |1462   |\n",
      "|UT                |1152   |\n",
      "|MT                |1032   |\n",
      "|AK                |754    |\n",
      "|NS                |730    |\n",
      "|GV                |704    |\n",
      "|ND                |608    |\n",
      "|WY                |411    |\n",
      "|HI                |408    |\n",
      "|AB                |218    |\n",
      "|NB                |137    |\n",
      "|PE                |128    |\n",
      "|BC                |127    |\n",
      "|PR                |110    |\n",
      "|MB                |40     |\n",
      "|SK                |30     |\n",
      "|FO                |12     |\n",
      "|NT                |4      |\n",
      "|MX                |4      |\n",
      "+------------------+-------+\n",
      "\n"
     ]
    }
   ],
   "source": [
    "df2.select(\"Registration State\").groupBy('Registration State').count().orderBy('count',ascending=False).show(67,truncate=False)\n"
   ]
  },
  {
   "cell_type": "code",
   "execution_count": 17,
   "metadata": {},
   "outputs": [],
   "source": [
    "#replaced 99 with NY as NY is the mostly occuring state in the dataset.\n",
    "\n",
    "df2 = df2.withColumn('Registration State',when(col('Registration State')=='99','NY').otherwise(col('Registration State')))"
   ]
  },
  {
   "cell_type": "code",
   "execution_count": 18,
   "metadata": {},
   "outputs": [
    {
     "name": "stdout",
     "output_type": "stream",
     "text": [
      "+------------------+-------+\n",
      "|Registration State|count  |\n",
      "+------------------+-------+\n",
      "|NY                |8517686|\n",
      "|NJ                |925965 |\n",
      "|PA                |285419 |\n",
      "|FL                |144556 |\n",
      "|CT                |141088 |\n",
      "|MA                |85547  |\n",
      "|IN                |80749  |\n",
      "|VA                |72626  |\n",
      "|MD                |61800  |\n",
      "|NC                |55806  |\n",
      "|IL                |37329  |\n",
      "|GA                |36852  |\n",
      "|TX                |36516  |\n",
      "|AZ                |26426  |\n",
      "|OH                |25302  |\n",
      "|CA                |24260  |\n",
      "|SC                |21836  |\n",
      "|ME                |21574  |\n",
      "|MN                |18227  |\n",
      "|OK                |18165  |\n",
      "|TN                |17275  |\n",
      "|DE                |16325  |\n",
      "|MI                |15703  |\n",
      "|RI                |12224  |\n",
      "|NH                |8752   |\n",
      "|VT                |7367   |\n",
      "|AL                |6891   |\n",
      "|WA                |6311   |\n",
      "|ON                |5601   |\n",
      "|OR                |5483   |\n",
      "|MO                |4454   |\n",
      "|QB                |4406   |\n",
      "|DC                |4250   |\n",
      "|WI                |4197   |\n",
      "|IA                |4186   |\n",
      "|CO                |4093   |\n",
      "|KY                |3833   |\n",
      "|MS                |3599   |\n",
      "|LA                |3466   |\n",
      "|DP                |3192   |\n",
      "|ID                |2920   |\n",
      "|AR                |2621   |\n",
      "|WV                |2545   |\n",
      "|NM                |2322   |\n",
      "|SD                |1865   |\n",
      "|NV                |1846   |\n",
      "|KS                |1501   |\n",
      "|NE                |1462   |\n",
      "|UT                |1152   |\n",
      "|MT                |1032   |\n",
      "|AK                |754    |\n",
      "|NS                |730    |\n",
      "|GV                |704    |\n",
      "|ND                |608    |\n",
      "|WY                |411    |\n",
      "|HI                |408    |\n",
      "|AB                |218    |\n",
      "|NB                |137    |\n",
      "|PE                |128    |\n",
      "|BC                |127    |\n",
      "|PR                |110    |\n",
      "|MB                |40     |\n",
      "|SK                |30     |\n",
      "|FO                |12     |\n",
      "|NT                |4      |\n",
      "|MX                |4      |\n",
      "+------------------+-------+\n",
      "\n"
     ]
    }
   ],
   "source": [
    "df2.select(\"Registration State\").groupBy('Registration State').count().orderBy('count',ascending=False).show(67,truncate=False)"
   ]
  },
  {
   "cell_type": "code",
   "execution_count": 19,
   "metadata": {},
   "outputs": [
    {
     "data": {
      "text/plain": [
       "66"
      ]
     },
     "execution_count": 19,
     "metadata": {},
     "output_type": "execute_result"
    }
   ],
   "source": [
    "df2.select(\"Registration State\").distinct().count()"
   ]
  },
  {
   "cell_type": "code",
   "execution_count": 20,
   "metadata": {},
   "outputs": [],
   "source": [
    "df2.createOrReplaceTempView(\"data\")"
   ]
  },
  {
   "cell_type": "code",
   "execution_count": 21,
   "metadata": {},
   "outputs": [
    {
     "name": "stdout",
     "output_type": "stream",
     "text": [
      "+------------------+-------+\n",
      "|Registration State|  count|\n",
      "+------------------+-------+\n",
      "|                NY|8517686|\n",
      "|                NJ| 925965|\n",
      "|                PA| 285419|\n",
      "|                FL| 144556|\n",
      "|                CT| 141088|\n",
      "|                MA|  85547|\n",
      "|                IN|  80749|\n",
      "|                VA|  72626|\n",
      "|                MD|  61800|\n",
      "|                NC|  55806|\n",
      "|                IL|  37329|\n",
      "|                GA|  36852|\n",
      "|                TX|  36516|\n",
      "|                AZ|  26426|\n",
      "|                OH|  25302|\n",
      "|                CA|  24260|\n",
      "|                SC|  21836|\n",
      "|                ME|  21574|\n",
      "|                MN|  18227|\n",
      "|                OK|  18165|\n",
      "+------------------+-------+\n",
      "only showing top 20 rows\n",
      "\n"
     ]
    }
   ],
   "source": [
    "spark.sql(\"SELECT `Registration State`, count(*) as count \\\n",
    "        FROM data group by `Registration State` order by `count` desc\").show()"
   ]
  },
  {
   "cell_type": "code",
   "execution_count": 22,
   "metadata": {},
   "outputs": [],
   "source": [
    "# Aggregation tasks\n",
    "# How often does each violation code occur? Display the frequency of the top five violation codes.\n",
    "# How often does each 'vehicle body type' get a parking ticket? How about the 'vehicle make'?\n",
    "#(Hint: Find the top 5 for both.)"
   ]
  },
  {
   "cell_type": "code",
   "execution_count": 23,
   "metadata": {},
   "outputs": [
    {
     "name": "stdout",
     "output_type": "stream",
     "text": [
      "+--------------+\n",
      "|Violation Code|\n",
      "+--------------+\n",
      "|             7|\n",
      "|             7|\n",
      "|             5|\n",
      "|            47|\n",
      "|            69|\n",
      "+--------------+\n",
      "only showing top 5 rows\n",
      "\n"
     ]
    }
   ],
   "source": [
    "df2.select(\"Violation Code\").show(5)"
   ]
  },
  {
   "cell_type": "code",
   "execution_count": 24,
   "metadata": {},
   "outputs": [
    {
     "name": "stdout",
     "output_type": "stream",
     "text": [
      "+--------------+-------+\n",
      "|Violation Code|count  |\n",
      "+--------------+-------+\n",
      "|21            |1528588|\n",
      "|36            |1400614|\n",
      "|38            |1062304|\n",
      "|14            |893498 |\n",
      "|20            |618593 |\n",
      "+--------------+-------+\n",
      "only showing top 5 rows\n",
      "\n"
     ]
    }
   ],
   "source": [
    "# How often does each violation code occur? Display the frequency of the top five violation codes.\n",
    "df2.select(\"Violation Code\").groupBy(\"Violation Code\").count().orderBy('count',ascending=False).show(5,False)"
   ]
  },
  {
   "cell_type": "code",
   "execution_count": 25,
   "metadata": {},
   "outputs": [
    {
     "name": "stdout",
     "output_type": "stream",
     "text": [
      "+-----------------+-------+\n",
      "|Vehicle Body Type|count  |\n",
      "+-----------------+-------+\n",
      "|SUBN             |3719802|\n",
      "|4DSD             |3082020|\n",
      "|VAN              |1411970|\n",
      "|DELV             |687330 |\n",
      "|SDN              |438191 |\n",
      "+-----------------+-------+\n",
      "only showing top 5 rows\n",
      "\n"
     ]
    }
   ],
   "source": [
    "# How often does each 'vehicle body type' get a parking ticket?\n",
    "df2.select(\"Vehicle Body Type\").groupBy(\"Vehicle Body Type\").count().orderBy('count',ascending=False).show(5,False)"
   ]
  },
  {
   "cell_type": "code",
   "execution_count": 26,
   "metadata": {},
   "outputs": [
    {
     "name": "stdout",
     "output_type": "stream",
     "text": [
      "+------------+-------+\n",
      "|Vehicle Make|count  |\n",
      "+------------+-------+\n",
      "|FORD        |1280958|\n",
      "|TOYOT       |1211451|\n",
      "|HONDA       |1079238|\n",
      "|NISSA       |918590 |\n",
      "|CHEVR       |714655 |\n",
      "+------------+-------+\n",
      "only showing top 5 rows\n",
      "\n"
     ]
    }
   ],
   "source": [
    "# How about the 'vehicle make'?\n",
    "df2.select(\"Vehicle Make\").groupBy(\"Vehicle Make\").count().orderBy('count',ascending=False).show(5,False)"
   ]
  },
  {
   "cell_type": "code",
   "execution_count": 27,
   "metadata": {},
   "outputs": [],
   "source": [
    "# A precinct is a police station that has a certain zone of the city under its command.\n",
    "# Find the (5 highest) frequencies of tickets for each of the following:\n",
    "# 'Violation Precinct' (This is the precinct of the zone where the violation occurred).\n",
    "# Using this, can you draw any insights for parking violations in any specific areas of the city?\n",
    "# 'Issuer Precinct' (This is the precinct that issued the ticket).\n",
    "# Here, you would have noticed that the dataframe has the 'Violating Precinct' or 'Issuing Precinct' as '0'.\n",
    "# These are erroneous entries. Hence, you need to provide the records for five correct precincts.\n",
    "# (Hint: Print the top six entries after sorting.)"
   ]
  },
  {
   "cell_type": "code",
   "execution_count": 28,
   "metadata": {},
   "outputs": [
    {
     "name": "stdout",
     "output_type": "stream",
     "text": [
      "+------------------+-------+\n",
      "|Violation Precinct|count  |\n",
      "+------------------+-------+\n",
      "|0                 |2072400|\n",
      "|19                |535671 |\n",
      "|14                |352450 |\n",
      "|1                 |331810 |\n",
      "|18                |306920 |\n",
      "|114               |296514 |\n",
      "+------------------+-------+\n",
      "only showing top 6 rows\n",
      "\n"
     ]
    }
   ],
   "source": [
    "df2.select(\"Violation Precinct\").groupBy(\"Violation Precinct\").count().orderBy(\"count\",ascending=False).show(6,False)"
   ]
  },
  {
   "cell_type": "code",
   "execution_count": 29,
   "metadata": {},
   "outputs": [
    {
     "name": "stdout",
     "output_type": "stream",
     "text": [
      "+---------------+-------+\n",
      "|Issuer Precinct|count  |\n",
      "+---------------+-------+\n",
      "|0              |2388479|\n",
      "|19             |521513 |\n",
      "|14             |344977 |\n",
      "|1              |321170 |\n",
      "|18             |296553 |\n",
      "|114            |289950 |\n",
      "+---------------+-------+\n",
      "only showing top 6 rows\n",
      "\n"
     ]
    }
   ],
   "source": [
    "df2.select(\"Issuer Precinct\").groupBy(\"Issuer Precinct\").count().orderBy(\"count\",ascending=False).show(6,False)"
   ]
  },
  {
   "cell_type": "code",
   "execution_count": 30,
   "metadata": {},
   "outputs": [],
   "source": [
    "# Find the violation code frequencies for three precincts that have issued the most number of tickets. \n",
    "# Do these precinct zones have an exceptionally high frequency of certain violation codes? \n",
    "# Are these codes common across precincts? (Hint: In the SQL view, use the 'where' attribute to filter \n",
    "# among three precincts.)"
   ]
  },
  {
   "cell_type": "code",
   "execution_count": 31,
   "metadata": {},
   "outputs": [
    {
     "name": "stdout",
     "output_type": "stream",
     "text": [
      "+---------------+--------------+-------------+\n",
      "|Issuer Precinct|Violation Code|count_tickets|\n",
      "+---------------+--------------+-------------+\n",
      "|             19|            46|        86390|\n",
      "|             19|            37|        72437|\n",
      "|             19|            38|        72344|\n",
      "|             19|            14|        57563|\n",
      "|             19|            21|        54700|\n",
      "+---------------+--------------+-------------+\n",
      "\n"
     ]
    }
   ],
   "source": [
    "spark.sql(\"SELECT `Issuer Precinct`, `Violation Code`, count(*) as count_tickets \\\n",
    "                    FROM data where `Issuer Precinct` = '19'\\\n",
    "                    group by `Issuer Precinct`, `Violation Code` \\\n",
    "                    order by `count_tickets` desc limit 5\").show()"
   ]
  },
  {
   "cell_type": "code",
   "execution_count": 32,
   "metadata": {},
   "outputs": [
    {
     "name": "stdout",
     "output_type": "stream",
     "text": [
      "+---------------+--------------+-------------+\n",
      "|Issuer Precinct|Violation Code|count_tickets|\n",
      "+---------------+--------------+-------------+\n",
      "|             14|            14|        73837|\n",
      "|             14|            69|        58026|\n",
      "|             14|            31|        39857|\n",
      "|             14|            47|        30540|\n",
      "|             14|            42|        20663|\n",
      "+---------------+--------------+-------------+\n",
      "\n"
     ]
    }
   ],
   "source": [
    "spark.sql(\"SELECT `Issuer Precinct`, `Violation Code`, count(*) as count_tickets \\\n",
    "                    FROM data where `Issuer Precinct` = '14'\\\n",
    "                    group by `Issuer Precinct`, `Violation Code` \\\n",
    "                    order by `count_tickets` desc limit 5\").show()"
   ]
  },
  {
   "cell_type": "code",
   "execution_count": 33,
   "metadata": {},
   "outputs": [
    {
     "name": "stdout",
     "output_type": "stream",
     "text": [
      "+---------------+--------------+-------------+\n",
      "|Issuer Precinct|Violation Code|count_tickets|\n",
      "+---------------+--------------+-------------+\n",
      "|              1|            14|        73522|\n",
      "|              1|            16|        38937|\n",
      "|              1|            20|        27841|\n",
      "|              1|            46|        22534|\n",
      "|              1|            38|        16989|\n",
      "+---------------+--------------+-------------+\n",
      "\n"
     ]
    }
   ],
   "source": [
    "spark.sql(\"SELECT `Issuer Precinct`, `Violation Code`, count(*) as count_tickets \\\n",
    "                    FROM data where `Issuer Precinct` = '1'\\\n",
    "                    group by `Issuer Precinct`, `Violation Code` \\\n",
    "                    order by `count_tickets` desc limit 5\").show()"
   ]
  },
  {
   "cell_type": "code",
   "execution_count": 34,
   "metadata": {},
   "outputs": [],
   "source": [
    "#Violation code 14 is common."
   ]
  },
  {
   "cell_type": "code",
   "execution_count": 35,
   "metadata": {},
   "outputs": [],
   "source": [
    "# Find out the properties of parking violations across different times of the day:\n",
    "# Find a way to deal with missing values, if any. (Hint: Check for the null values using\n",
    "#'isNull' under the SQL. Also, to remove the null values, check the 'dropna' command in the API documentation.)\n",
    "# The Violation Time field is specified in a strange format. Find a way to make this a time attribute that you \n",
    "# can use to divide into groups.\n",
    "# Divide 24 hours into six equal discrete bins of time. Choose the intervals as you see fit. For each of these \n",
    "# groups, find the three most commonly occurring violations. (Hint: Use the CASE-WHEN in SQL view to segregate \n",
    "# into bins. To find the most commonly occurring violations, you can use an approach similar to the one mentioned \n",
    "# in the hint for question 4.)\n",
    "# Now, try another direction. For the three most commonly occurring violation codes, find the most common \n",
    "# time of the day (in terms of the bins from the previous part)."
   ]
  },
  {
   "cell_type": "code",
   "execution_count": 36,
   "metadata": {},
   "outputs": [
    {
     "data": {
      "text/plain": [
       "['Summons Number',\n",
       " 'Plate ID',\n",
       " 'Registration State',\n",
       " 'Plate Type',\n",
       " 'Issue Date',\n",
       " 'Violation Code',\n",
       " 'Vehicle Body Type',\n",
       " 'Vehicle Make',\n",
       " 'Issuing Agency',\n",
       " 'Street Code1',\n",
       " 'Street Code2',\n",
       " 'Street Code3',\n",
       " 'Vehicle Expiration Date',\n",
       " 'Violation Location',\n",
       " 'Violation Precinct',\n",
       " 'Issuer Precinct',\n",
       " 'Issuer Code',\n",
       " 'Issuer Command',\n",
       " 'Issuer Squad',\n",
       " 'Violation Time',\n",
       " 'Time First Observed',\n",
       " 'Violation County',\n",
       " 'Violation In Front Of Or Opposite',\n",
       " 'House Number',\n",
       " 'Street Name',\n",
       " 'Intersecting Street',\n",
       " 'Date First Observed',\n",
       " 'Law Section',\n",
       " 'Sub Division',\n",
       " 'Violation Legal Code',\n",
       " 'Days Parking In Effect    ',\n",
       " 'From Hours In Effect',\n",
       " 'To Hours In Effect',\n",
       " 'Vehicle Color',\n",
       " 'Unregistered Vehicle?',\n",
       " 'Vehicle Year',\n",
       " 'Meter Number',\n",
       " 'Feet From Curb',\n",
       " 'Violation Post Code',\n",
       " 'Violation Description',\n",
       " 'No Standing or Stopping Violation',\n",
       " 'Hydrant Violation',\n",
       " 'Double Parking Violation',\n",
       " 'Year_Column']"
      ]
     },
     "execution_count": 36,
     "metadata": {},
     "output_type": "execute_result"
    }
   ],
   "source": [
    "df2.columns"
   ]
  },
  {
   "cell_type": "code",
   "execution_count": 37,
   "metadata": {},
   "outputs": [
    {
     "name": "stdout",
     "output_type": "stream",
     "text": [
      "+------------------------------+\n",
      "|Violation Description         |\n",
      "+------------------------------+\n",
      "|49-Excavation (obstruct traff)|\n",
      "|80-Missing Equipment (specify)|\n",
      "|74B-Covered Plate             |\n",
      "|70B-Impropr Dsply of Reg (NYS)|\n",
      "|71A-Insp Sticker Expired (NYS)|\n",
      "|50-Crosswalk                  |\n",
      "|16A-No Std (Com Veh) Non-COM  |\n",
      "|16-No Std (Com Veh) Com Plate |\n",
      "|42-Exp. Muni-Mtr (Com. Mtr. Z)|\n",
      "|04-Downtown Bus Area, 3 Hr Lim|\n",
      "|09-Blocking the Box           |\n",
      "|96-Railroad Crossing          |\n",
      "|91-Veh for Sale (Dealer Only) |\n",
      "|71B-Improp Safety Stkr (NYS)  |\n",
      "|02-No operator N/A/PH         |\n",
      "|75-No Match-Plate/Reg. Sticker|\n",
      "|14-No Standing                |\n",
      "|24-No Parking (exc auth veh)  |\n",
      "|70-Reg. Sticker Missing (NYS) |\n",
      "|null                          |\n",
      "|70A-Reg. Sticker Expired (NYS)|\n",
      "|47A-Angle PKG - Midtown       |\n",
      "|22-No Parking (exc hotel load)|\n",
      "|84-Platform lifts in low posit|\n",
      "|89-No Stand Exc Com Plate     |\n",
      "|03-Unauth passenger pick-up   |\n",
      "|78-Nighttime PKG on Res Street|\n",
      "|48-Bike Lane                  |\n",
      "|30-No stopping/standing       |\n",
      "|04B-Downtown Bus Area, No Prmt|\n",
      "|Field Release Agreement       |\n",
      "|01-No Intercity Pmt Displ     |\n",
      "|55-Tunnel/Elevated Roadway    |\n",
      "|35-Selling /Offer Merchandise |\n",
      "|PHTO SCHOOL ZN SPEED VIOLATION|\n",
      "|79-Bus Layover (No Pass)      |\n",
      "|53-Safety Zone                |\n",
      "|52-Intersection               |\n",
      "|32-Overtime PKG-Missing Meter |\n",
      "|64-No STD Ex Con/DPL, D/S Dec |\n",
      "|63-Nighttime STD/PKG in a Park|\n",
      "|04A-Downtown Bus Area, Non-Bus|\n",
      "|25-No Stand (commutr van stop)|\n",
      "|20A-No Parking (Non-COM)      |\n",
      "|79A-Bus Layover (W/ Pass)     |\n",
      "|35-Selling/Offer Merchandise  |\n",
      "|77-Parked Bus (exc desig area)|\n",
      "|37-Expired Muni Meter         |\n",
      "|98-Obstructing Driveway       |\n",
      "|33-Feeding Meter              |\n",
      "|46A-Double Parking (Non-COM)  |\n",
      "|46-Double Parking (Com Plate) |\n",
      "|72-Insp Stkr Mutilated        |\n",
      "|29-Altered Intercity bus pmt  |\n",
      "|46B-Double Parking (Com-100Ft)|\n",
      "|73A-Reg Stkr Counterfeit      |\n",
      "|62-Beyond Marked Space        |\n",
      "|BUS LANE VIOLATION            |\n",
      "|69-Failure to Disp Muni Recpt |\n",
      "|68-Not Pkg. Comp. w Psted Sign|\n",
      "|18-No Stand (bus lane)        |\n",
      "|79-Bus Layover                |\n",
      "|10-No Stopping                |\n",
      "|31-No Stand (Com. Mtr. Zone)  |\n",
      "|60-Angle Parking              |\n",
      "|47-Double PKG-Midtown         |\n",
      "|44-Exc Limit (Com. Mtr. Zone) |\n",
      "|66-Detached Trailer           |\n",
      "|67-Blocking Ped. Ramp         |\n",
      "|74A-Improperly Displayed Plate|\n",
      "|43-Exp. Mtr. (Com. Mtr. Zone) |\n",
      "|21-No Parking (street clean)  |\n",
      "|19-No Stand (bus stop)        |\n",
      "|27-No Parking (exc handicap)  |\n",
      "|11-No Stand (exc hotel load)  |\n",
      "|61-Wrong Way                  |\n",
      "|82-Unaltered Commerc Vehicle  |\n",
      "|51-Sidewalk                   |\n",
      "|13-No Stand (taxi stand)      |\n",
      "|40-Fire Hydrant               |\n",
      "|23-No Parking (taxi stand)    |\n",
      "|97-Vacant Lot                 |\n",
      "|08-Engine Idling              |\n",
      "|45-Traffic Lane               |\n",
      "|17-No Stand (exc auth veh)    |\n",
      "|85-Storage-3 hour Commercial  |\n",
      "|59-Angle PKG-Commer. Vehicle  |\n",
      "|38-Failure to Display Muni Rec|\n",
      "|39-Overtime PKG-Time Limt Post|\n",
      "|73-Reg Stkr Mutilated         |\n",
      "|81-No STD Ex C,A&D Dec, 30 Mn |\n",
      "|FAILURE TO STOP AT RED LIGHT  |\n",
      "|26-No Stnd (for-hire veh only)|\n",
      "|72A-Insp Stkr Counterfeit     |\n",
      "|20-No Parking (Com Plate)     |\n",
      "|71-Insp. Sticker Missing (NYS |\n",
      "|83-Improper Registration      |\n",
      "|56-Divided Highway            |\n",
      "|74-Missing Display Plate      |\n",
      "|93-Repair Flat Tire (Maj Road)|\n",
      "+------------------------------+\n",
      "only showing top 100 rows\n",
      "\n"
     ]
    }
   ],
   "source": [
    "df2.select(\"Violation Description\").distinct().show(100,False)"
   ]
  },
  {
   "cell_type": "code",
   "execution_count": 39,
   "metadata": {},
   "outputs": [
    {
     "name": "stdout",
     "output_type": "stream",
     "text": [
      "+--------------+--------+------------------+----------+-------------------+--------------+-----------------+------------+--------------+------------+------------+------------+-----------------------+------------------+------------------+---------------+-----------+--------------+------------+--------------+-------------------+----------------+---------------------------------+------------+--------------------+-------------------+-------------------+-----------+------------+--------------------+--------------------------+--------------------+------------------+-------------+---------------------+------------+------------+--------------+-------------------+-----------------------------+---------------------------------+-----------------+------------------------+-----------+\n",
      "|Summons Number|Plate ID|Registration State|Plate Type|Issue Date         |Violation Code|Vehicle Body Type|Vehicle Make|Issuing Agency|Street Code1|Street Code2|Street Code3|Vehicle Expiration Date|Violation Location|Violation Precinct|Issuer Precinct|Issuer Code|Issuer Command|Issuer Squad|Violation Time|Time First Observed|Violation County|Violation In Front Of Or Opposite|House Number|Street Name         |Intersecting Street|Date First Observed|Law Section|Sub Division|Violation Legal Code|Days Parking In Effect    |From Hours In Effect|To Hours In Effect|Vehicle Color|Unregistered Vehicle?|Vehicle Year|Meter Number|Feet From Curb|Violation Post Code|Violation Description        |No Standing or Stopping Violation|Hydrant Violation|Double Parking Violation|Year_Column|\n",
      "+--------------+--------+------------------+----------+-------------------+--------------+-----------------+------------+--------------+------------+------------+------------+-----------------------+------------------+------------------+---------------+-----------+--------------+------------+--------------+-------------------+----------------+---------------------------------+------------+--------------------+-------------------+-------------------+-----------+------------+--------------------+--------------------------+--------------------+------------------+-------------+---------------------+------------+------------+--------------+-------------------+-----------------------------+---------------------------------+-----------------+------------------------+-----------+\n",
      "|5092469481    |GZH7067 |NY                |PAS       |2015-12-27 00:00:00|7             |SUBN             |TOYOT       |V             |0           |0           |0           |0                      |null              |0                 |0              |0          |null          |null        |0143A         |null               |BX              |null                             |null        |ALLERTON AVE (W/B) @|BARNES AVE         |0                  |1111       |D           |T                   |null                      |null                |null              |GY           |null                 |2001        |null        |0             |null               |FAILURE TO STOP AT RED LIGHT |null                             |null             |null                    |2015       |\n",
      "|5092451658    |GZH7067 |NY                |PAS       |2015-12-27 00:00:00|7             |SUBN             |TOYOT       |V             |0           |0           |0           |0                      |null              |0                 |0              |0          |null          |null        |0400P         |null               |BX              |null                             |null        |ALLERTON AVE (W/B) @|BARNES AVE         |0                  |1111       |D           |T                   |null                      |null                |null              |GY           |null                 |2001        |null        |0             |null               |FAILURE TO STOP AT RED LIGHT |null                             |null             |null                    |2015       |\n",
      "|4006265037    |FZX9232 |NY                |PAS       |2015-12-27 00:00:00|5             |SUBN             |FORD        |V             |0           |0           |0           |0                      |null              |0                 |0              |0          |null          |null        |0233P         |null               |BX              |null                             |null        |SB WEBSTER AVE @ E 1|94TH ST            |0                  |1111       |C           |T                   |null                      |null                |null              |BK           |null                 |2004        |null        |0             |null               |BUS LANE VIOLATION           |null                             |null             |null                    |2015       |\n",
      "|8478629828    |66623ME |NY                |COM       |2017-01-01 00:00:00|47            |REFG             |MITSU       |T             |10610       |34330       |34350       |20180630               |14                |14                |14             |359594     |T102          |J           |1120A         |null               |NY              |O                                |330         |7th Ave             |null               |0                  |408        |l2          |null                |Y                         |0700A               |0700P             |WH           |null                 |2007        |null        |0             |04                 |47-Double PKG-Midtown        |null                             |null             |null                    |2017       |\n",
      "|7868300310    |37033JV |NY                |COM       |2015-12-27 00:00:00|69            |DELV             |INTER       |T             |10510       |34310       |34330       |20170228               |13                |13                |13             |364832     |T102          |M           |0555P         |null               |NY              |F                                |799         |6th Ave             |null               |0                  |408        |h1          |null                |Y                         |0700A               |0700P             |WHITE        |null                 |2007        |null        |0             |31 6               |69-Failure to Disp Muni Recpt|null                             |null             |null                    |2015       |\n",
      "+--------------+--------+------------------+----------+-------------------+--------------+-----------------+------------+--------------+------------+------------+------------+-----------------------+------------------+------------------+---------------+-----------+--------------+------------+--------------+-------------------+----------------+---------------------------------+------------+--------------------+-------------------+-------------------+-----------+------------+--------------------+--------------------------+--------------------+------------------+-------------+---------------------+------------+------------+--------------+-------------------+-----------------------------+---------------------------------+-----------------+------------------------+-----------+\n",
      "only showing top 5 rows\n",
      "\n"
     ]
    }
   ],
   "source": [
    "df2.show(5,truncate=False)"
   ]
  },
  {
   "cell_type": "markdown",
   "metadata": {},
   "source": [
    "- Find out the properties of parking violations across different times of the day:\n",
    "    - Find a way to deal with missing values, if any.\n",
    "        (Hint: Check for the null values using 'isNull' under the SQL. Also, to remove the null values, check the 'dropna' command in the API documentation.)\n",
    "\n",
    "    - The Violation Time field is specified in a strange format. Find a way to make this a time attribute that you can use to divide into groups.\n",
    "\n",
    "    - Divide 24 hours into six equal discrete bins of time. Choose the intervals as you see fit. For each of these groups, find the three most commonly occurring violations.\n",
    "        (Hint: Use the CASE-WHEN in SQL view to segregate into bins. To find the most commonly occurring violations, you can use an approach similar to the one mentioned in the hint for question 4.)\n",
    "\n",
    "    - Now, try another direction. For the three most commonly occurring violation codes, find the most common time of the day (in terms of the bins from the previous part).\n",
    "\n",
    "- Let’s try and find some seasonality in this data:\n",
    "\n",
    "    - First, divide the year into a certain number of seasons, and find the frequencies of tickets for each season. (Hint: Use Issue Date to segregate into seasons.)\n",
    "\n",
    "    - Then, find the three most common violations for each of these seasons.\n",
    "        (Hint: You can use an approach similar to the one mentioned in the hint for question 4.)\n",
    "\n",
    "- The fines collected from all the instances of parking violation constitute a source of revenue for the NYC Police Department. Let’s take an example of estimating this for the three most commonly occurring codes:\n",
    "    - Find the total occurrences of the three most common violation codes.\n",
    "    - Then, visit the website:\n",
    "        http://www1.nyc.gov/site/finance/vehicles/services-violation-codes.page\n",
    "        It lists the fines associated with different violation codes. They’re divided into two categories: one for the highest-density locations in the city and the other for the rest of the city. For the sake of simplicity, take the average of the two.\n",
    "    - Using this information, find the total amount collected for the three violation codes with the maximum tickets. State the code that has the highest total collection.\n",
    "    - What can you intuitively infer from these findings?"
   ]
  },
  {
   "cell_type": "code",
   "execution_count": 42,
   "metadata": {},
   "outputs": [
    {
     "name": "stdout",
     "output_type": "stream",
     "text": [
      "+---+\n",
      "|cnt|\n",
      "+---+\n",
      "|63 |\n",
      "+---+\n",
      "\n"
     ]
    }
   ],
   "source": [
    "spark.sql(\"Select count(*) as cnt from data where `Violation Time` is Null \").show(truncate=False)"
   ]
  },
  {
   "cell_type": "code",
   "execution_count": 44,
   "metadata": {},
   "outputs": [
    {
     "data": {
      "text/plain": [
       "63"
      ]
     },
     "execution_count": 44,
     "metadata": {},
     "output_type": "execute_result"
    }
   ],
   "source": [
    "df2.where(col('Violation Time').isNull()).count()"
   ]
  },
  {
   "cell_type": "code",
   "execution_count": 45,
   "metadata": {},
   "outputs": [
    {
     "name": "stdout",
     "output_type": "stream",
     "text": [
      "+--------------+--------+------------------+----------+----------+--------------+-----------------+------------+--------------+------------+------------+------------+-----------------------+------------------+------------------+---------------+-----------+--------------+------------+--------------+-------------------+----------------+---------------------------------+------------+-----------+-------------------+-------------------+-----------+------------+--------------------+--------------------------+--------------------+------------------+-------------+---------------------+------------+------------+--------------+-------------------+---------------------+---------------------------------+-----------------+------------------------+-----------+\n",
      "|Summons Number|Plate ID|Registration State|Plate Type|Issue Date|Violation Code|Vehicle Body Type|Vehicle Make|Issuing Agency|Street Code1|Street Code2|Street Code3|Vehicle Expiration Date|Violation Location|Violation Precinct|Issuer Precinct|Issuer Code|Issuer Command|Issuer Squad|Violation Time|Time First Observed|Violation County|Violation In Front Of Or Opposite|House Number|Street Name|Intersecting Street|Date First Observed|Law Section|Sub Division|Violation Legal Code|Days Parking In Effect    |From Hours In Effect|To Hours In Effect|Vehicle Color|Unregistered Vehicle?|Vehicle Year|Meter Number|Feet From Curb|Violation Post Code|Violation Description|No Standing or Stopping Violation|Hydrant Violation|Double Parking Violation|Year_Column|\n",
      "+--------------+--------+------------------+----------+----------+--------------+-----------------+------------+--------------+------------+------------+------------+-----------------------+------------------+------------------+---------------+-----------+--------------+------------+--------------+-------------------+----------------+---------------------------------+------------+-----------+-------------------+-------------------+-----------+------------+--------------------+--------------------------+--------------------+------------------+-------------+---------------------+------------+------------+--------------+-------------------+---------------------+---------------------------------+-----------------+------------------------+-----------+\n",
      "|             0|       1|                 0|         0|         0|             0|            42695|       73047|             0|           0|           0|           0|                      0|           2072400|                 0|              0|          0|       2062645|     2063541|            63|            9962281|           39547|                          2161235|     2288618|       4009|            7435473|                  0|          0|         773|             8740321|                   2712416|             5450946|           5450943|       152332|              9675432|           0|     9017555|             0|            3190187|              1127470|                         10803028|         10803028|                10803028|          0|\n",
      "+--------------+--------+------------------+----------+----------+--------------+-----------------+------------+--------------+------------+------------+------------+-----------------------+------------------+------------------+---------------+-----------+--------------+------------+--------------+-------------------+----------------+---------------------------------+------------+-----------+-------------------+-------------------+-----------+------------+--------------------+--------------------------+--------------------+------------------+-------------+---------------------+------------+------------+--------------+-------------------+---------------------+---------------------------------+-----------------+------------------------+-----------+\n",
      "\n"
     ]
    }
   ],
   "source": [
    "df2.select([count(when(col(c).isNull(), c)).alias(c) for c in df2.columns]).show()"
   ]
  },
  {
   "cell_type": "code",
   "execution_count": 47,
   "metadata": {},
   "outputs": [
    {
     "data": {
      "text/plain": [
       "63"
      ]
     },
     "execution_count": 47,
     "metadata": {},
     "output_type": "execute_result"
    }
   ],
   "source": [
    "df2.where(df2['Violation Time'].isNull()).count()"
   ]
  },
  {
   "cell_type": "code",
   "execution_count": 48,
   "metadata": {},
   "outputs": [],
   "source": [
    "df_filtered = df2.dropna(subset=['Violation Time'])"
   ]
  },
  {
   "cell_type": "code",
   "execution_count": 49,
   "metadata": {},
   "outputs": [
    {
     "data": {
      "text/plain": [
       "0"
      ]
     },
     "execution_count": 49,
     "metadata": {},
     "output_type": "execute_result"
    }
   ],
   "source": [
    "df_filtered.where(col('Violation Time').isNull()).count()"
   ]
  },
  {
   "cell_type": "code",
   "execution_count": 51,
   "metadata": {},
   "outputs": [
    {
     "name": "stdout",
     "output_type": "stream",
     "text": [
      "+--------------+\n",
      "|Violation Time|\n",
      "+--------------+\n",
      "|0143A         |\n",
      "|0400P         |\n",
      "|0233P         |\n",
      "|1120A         |\n",
      "|0555P         |\n",
      "+--------------+\n",
      "only showing top 5 rows\n",
      "\n"
     ]
    }
   ],
   "source": [
    "#The Violation Time field is specified in a strange format.\n",
    "#Find a way to make this a time attribute that you can use to divide into groups.\n",
    "df_filtered.select(\"Violation Time\").show(5,truncate=False)"
   ]
  },
  {
   "cell_type": "code",
   "execution_count": 52,
   "metadata": {},
   "outputs": [],
   "source": [
    "from pyspark.sql import functions as F"
   ]
  },
  {
   "cell_type": "code",
   "execution_count": 65,
   "metadata": {},
   "outputs": [],
   "source": [
    "df_filtered = df_filtered.withColumn(\n",
    "    \"Violation Time Formatted\",\n",
    "    F.concat(\n",
    "        F.expr('substring(`Violation Time`, 1, 2)'),  # Hour part\n",
    "        F.lit(\":\"),\n",
    "        F.expr('substring(`Violation Time`, 3, 2)'),  # Minute part\n",
    "        F.lit(\" \"),\n",
    "        F.when(F.expr('substring(`Violation Time`, 5, 1)') == \"A\", F.lit(\"AM\"))\n",
    "         .otherwise(F.lit(\"PM\"))  # Append \"AM\" or \"PM\" based on the last character\n",
    "    )\n",
    ")\n"
   ]
  },
  {
   "cell_type": "code",
   "execution_count": 69,
   "metadata": {},
   "outputs": [
    {
     "name": "stdout",
     "output_type": "stream",
     "text": [
      "+--------------+------------------------+\n",
      "|Violation Time|Violation Time Formatted|\n",
      "+--------------+------------------------+\n",
      "|         0143A|                01:43 AM|\n",
      "|         0400P|                04:00 PM|\n",
      "|         0233P|                02:33 PM|\n",
      "|         1120A|                11:20 AM|\n",
      "|         0555P|                05:55 PM|\n",
      "|         0852P|                08:52 PM|\n",
      "|         0215A|                02:15 AM|\n",
      "|         0758A|                07:58 AM|\n",
      "|         1005A|                10:05 AM|\n",
      "|         0845A|                08:45 AM|\n",
      "|         0015A|                00:15 AM|\n",
      "|         0707A|                07:07 AM|\n",
      "|         1022A|                10:22 AM|\n",
      "|         1150A|                11:50 AM|\n",
      "|         0525A|                05:25 AM|\n",
      "|         0645P|                06:45 PM|\n",
      "|         1122A|                11:22 AM|\n",
      "|         0256P|                02:56 PM|\n",
      "|         1232A|                12:32 AM|\n",
      "|         1034A|                10:34 AM|\n",
      "+--------------+------------------------+\n",
      "only showing top 20 rows\n",
      "\n"
     ]
    }
   ],
   "source": [
    "df_filtered.select(\"Violation Time\",\"Violation Time Formatted\").show()"
   ]
  },
  {
   "cell_type": "code",
   "execution_count": 83,
   "metadata": {},
   "outputs": [],
   "source": [
    "df_converted = df_filtered.withColumn(\n",
    "    \"Violation Time 24 Hour\",\n",
    "    F.when((F.expr(\"substring(`Violation Time`,5,1)\") == \"A\") & (F.expr(\"substring(`Violation Time`,1,2)\") == \"12\"),\n",
    "        F.concat(F.lit(\"00\"), F.lit(\":\"), F.expr(\"substring(`Violation Time`, 3, 2)\"))\n",
    "    ).otherwise(        \n",
    "        F.when(\n",
    "            F.expr(\"substring(`Violation Time`, 5, 1)\") == 'A',\n",
    "            # If it's AM, just use the hour and minutes as is\n",
    "            F.concat(F.expr(\"substring(`Violation Time`, 1, 2)\"), \n",
    "                     F.lit(\":\"), \n",
    "                     F.expr(\"substring(`Violation Time`, 3, 2)\"))\n",
    "        ).otherwise(\n",
    "            # Convert PM time to 24-hour format by adding 12 to the hour\n",
    "            F.concat(\n",
    "                (F.expr(\"cast(substring(`Violation Time`, 1, 2) as int)\") + 12).cast(\"string\"), \n",
    "                F.lit(\":\"), \n",
    "                F.expr(\"substring(`Violation Time`, 3, 2)\")\n",
    "            )\n",
    "        )\n",
    "    )\n",
    ")\n",
    "\n",
    "\n"
   ]
  },
  {
   "cell_type": "code",
   "execution_count": null,
   "metadata": {},
   "outputs": [],
   "source": [
    "df_converted = df_filtered.withColumn(\n",
    "    \"Violation Time 24 Hour\",\n",
    "    F.when(F.expr(\"substring()\"))\n",
    "\n",
    "\n",
    ")\n",
    "\n"
   ]
  },
  {
   "cell_type": "code",
   "execution_count": 81,
   "metadata": {},
   "outputs": [
    {
     "data": {
      "text/plain": [
       "['Summons Number',\n",
       " 'Plate ID',\n",
       " 'Registration State',\n",
       " 'Plate Type',\n",
       " 'Issue Date',\n",
       " 'Violation Code',\n",
       " 'Vehicle Body Type',\n",
       " 'Vehicle Make',\n",
       " 'Issuing Agency',\n",
       " 'Street Code1',\n",
       " 'Street Code2',\n",
       " 'Street Code3',\n",
       " 'Vehicle Expiration Date',\n",
       " 'Violation Location',\n",
       " 'Violation Precinct',\n",
       " 'Issuer Precinct',\n",
       " 'Issuer Code',\n",
       " 'Issuer Command',\n",
       " 'Issuer Squad',\n",
       " 'Violation Time',\n",
       " 'Time First Observed',\n",
       " 'Violation County',\n",
       " 'Violation In Front Of Or Opposite',\n",
       " 'House Number',\n",
       " 'Street Name',\n",
       " 'Intersecting Street',\n",
       " 'Date First Observed',\n",
       " 'Law Section',\n",
       " 'Sub Division',\n",
       " 'Violation Legal Code',\n",
       " 'Days Parking In Effect    ',\n",
       " 'From Hours In Effect',\n",
       " 'To Hours In Effect',\n",
       " 'Vehicle Color',\n",
       " 'Unregistered Vehicle?',\n",
       " 'Vehicle Year',\n",
       " 'Meter Number',\n",
       " 'Feet From Curb',\n",
       " 'Violation Post Code',\n",
       " 'Violation Description',\n",
       " 'No Standing or Stopping Violation',\n",
       " 'Hydrant Violation',\n",
       " 'Double Parking Violation',\n",
       " 'Year_Column',\n",
       " 'Violation Time Formatted',\n",
       " 'Violation Time 24 Hour']"
      ]
     },
     "execution_count": 81,
     "metadata": {},
     "output_type": "execute_result"
    }
   ],
   "source": [
    "df_converted.columns"
   ]
  },
  {
   "cell_type": "code",
   "execution_count": 75,
   "metadata": {},
   "outputs": [
    {
     "name": "stdout",
     "output_type": "stream",
     "text": [
      "+--------------+------------------------+----------------------+\n",
      "|Violation Time|Violation Time Formatted|Violation Time 24 Hour|\n",
      "+--------------+------------------------+----------------------+\n",
      "|0143A         |01:43 AM                |01:43                 |\n",
      "|0400P         |04:00 PM                |16:00                 |\n",
      "|0233P         |02:33 PM                |14:33                 |\n",
      "|1120A         |11:20 AM                |11:20                 |\n",
      "|0555P         |05:55 PM                |17:55                 |\n",
      "|0852P         |08:52 PM                |20:52                 |\n",
      "|0215A         |02:15 AM                |02:15                 |\n",
      "|0758A         |07:58 AM                |07:58                 |\n",
      "|1005A         |10:05 AM                |10:05                 |\n",
      "|0845A         |08:45 AM                |08:45                 |\n",
      "|0015A         |00:15 AM                |00:15                 |\n",
      "|0707A         |07:07 AM                |07:07                 |\n",
      "|1022A         |10:22 AM                |10:22                 |\n",
      "|1150A         |11:50 AM                |11:50                 |\n",
      "|0525A         |05:25 AM                |05:25                 |\n",
      "|0645P         |06:45 PM                |18:45                 |\n",
      "|1122A         |11:22 AM                |11:22                 |\n",
      "|0256P         |02:56 PM                |14:56                 |\n",
      "|1232A         |12:32 AM                |12:32                 |\n",
      "|1034A         |10:34 AM                |10:34                 |\n",
      "+--------------+------------------------+----------------------+\n",
      "only showing top 20 rows\n",
      "\n"
     ]
    }
   ],
   "source": [
    "df_converted.select(\n",
    " 'Violation Time',\n",
    " 'Violation Time Formatted',\n",
    " 'Violation Time 24 Hour').show(truncate=False)"
   ]
  },
  {
   "cell_type": "code",
   "execution_count": 84,
   "metadata": {},
   "outputs": [
    {
     "name": "stdout",
     "output_type": "stream",
     "text": [
      "+--------------+------------------------+----------------------+\n",
      "|Violation Time|Violation Time Formatted|Violation Time 24 Hour|\n",
      "+--------------+------------------------+----------------------+\n",
      "|0143A         |01:43 AM                |01:43                 |\n",
      "|0400P         |04:00 PM                |16:00                 |\n",
      "|0233P         |02:33 PM                |14:33                 |\n",
      "|1120A         |11:20 AM                |11:20                 |\n",
      "|0555P         |05:55 PM                |17:55                 |\n",
      "|0852P         |08:52 PM                |20:52                 |\n",
      "|0215A         |02:15 AM                |02:15                 |\n",
      "|0758A         |07:58 AM                |07:58                 |\n",
      "|1005A         |10:05 AM                |10:05                 |\n",
      "|0845A         |08:45 AM                |08:45                 |\n",
      "|0015A         |00:15 AM                |00:15                 |\n",
      "|0707A         |07:07 AM                |07:07                 |\n",
      "|1022A         |10:22 AM                |10:22                 |\n",
      "|1150A         |11:50 AM                |11:50                 |\n",
      "|0525A         |05:25 AM                |05:25                 |\n",
      "|0645P         |06:45 PM                |18:45                 |\n",
      "|1122A         |11:22 AM                |11:22                 |\n",
      "|0256P         |02:56 PM                |14:56                 |\n",
      "|1232A         |12:32 AM                |00:32                 |\n",
      "|1034A         |10:34 AM                |10:34                 |\n",
      "+--------------+------------------------+----------------------+\n",
      "only showing top 20 rows\n",
      "\n"
     ]
    }
   ],
   "source": [
    "df_converted.select(\n",
    " 'Violation Time',\n",
    " 'Violation Time Formatted',\n",
    " 'Violation Time 24 Hour').show(truncate=False)"
   ]
  },
  {
   "cell_type": "markdown",
   "metadata": {},
   "source": [
    "    - Divide 24 hours into six equal discrete bins of time. Choose the intervals as you see fit. For each of these groups, find the three most commonly occurring violations.\n",
    "        (Hint: Use the CASE-WHEN in SQL view to segregate into bins. To find the most commonly occurring violations, you can use an approach similar to the one mentioned in the hint for question 4.)\n",
    "\n",
    "    - Now, try another direction. For the three most commonly occurring violation codes, find the most common time of the day (in terms of the bins from the previous part)."
   ]
  },
  {
   "cell_type": "code",
   "execution_count": 85,
   "metadata": {},
   "outputs": [],
   "source": [
    "df_converted.createOrReplaceTempView(\"time_violation_data\")\n",
    "\n",
    "time_violation_analysis = spark.sql('''select case\n",
    "                                       when int(substring(`Violation Time 24 Hour`,1,2)) between 00 and 03\n",
    "                                       then '00:00-03:59'\n",
    "                                       when int(substring(`Violation Time 24 Hour`,1,2)) between 04 and 07\n",
    "                                       then '04:00-07:59'\n",
    "                                       when int(substring(`Violation Time 24 Hour`,1,2)) between 08 and 11\n",
    "                                       then '08:00-11:59'\n",
    "                                       when int(substring(`Violation Time 24 Hour`,1,2)) between 12 and 15\n",
    "                                       then '12:00-15:59'\n",
    "                                       when int(substring(`Violation Time 24 Hour`,1,2)) between 16 and 19\n",
    "                                       then '16:00-19:59'\n",
    "                                       else '20:00-23:59'\n",
    "                                       end as bins,  `Violation Time`, `Violation Code`,`Violation Time Formatted`,\n",
    "                                       `Violation Time 24 Hour`\n",
    "                                       from time_violation_data''')\n"
   ]
  },
  {
   "cell_type": "code",
   "execution_count": 86,
   "metadata": {},
   "outputs": [
    {
     "name": "stdout",
     "output_type": "stream",
     "text": [
      "+-----------+--------------+--------------+------------------------+----------------------+\n",
      "|       bins|Violation Time|Violation Code|Violation Time Formatted|Violation Time 24 Hour|\n",
      "+-----------+--------------+--------------+------------------------+----------------------+\n",
      "|00:00-03:59|         0143A|             7|                01:43 AM|                 01:43|\n",
      "|16:00-19:59|         0400P|             7|                04:00 PM|                 16:00|\n",
      "|12:00-15:59|         0233P|             5|                02:33 PM|                 14:33|\n",
      "|08:00-11:59|         1120A|            47|                11:20 AM|                 11:20|\n",
      "|16:00-19:59|         0555P|            69|                05:55 PM|                 17:55|\n",
      "|20:00-23:59|         0852P|             7|                08:52 PM|                 20:52|\n",
      "|00:00-03:59|         0215A|            40|                02:15 AM|                 02:15|\n",
      "|04:00-07:59|         0758A|            36|                07:58 AM|                 07:58|\n",
      "|08:00-11:59|         1005A|            36|                10:05 AM|                 10:05|\n",
      "|08:00-11:59|         0845A|             5|                08:45 AM|                 08:45|\n",
      "|00:00-03:59|         0015A|            78|                00:15 AM|                 00:15|\n",
      "|04:00-07:59|         0707A|            19|                07:07 AM|                 07:07|\n",
      "|08:00-11:59|         1022A|            36|                10:22 AM|                 10:22|\n",
      "|08:00-11:59|         1150A|            21|                11:50 AM|                 11:50|\n",
      "|04:00-07:59|         0525A|            40|                05:25 AM|                 05:25|\n",
      "|16:00-19:59|         0645P|            71|                06:45 PM|                 18:45|\n",
      "|08:00-11:59|         1122A|             7|                11:22 AM|                 11:22|\n",
      "|12:00-15:59|         0256P|            64|                02:56 PM|                 14:56|\n",
      "|00:00-03:59|         1232A|            20|                12:32 AM|                 00:32|\n",
      "|08:00-11:59|         1034A|            36|                10:34 AM|                 10:34|\n",
      "+-----------+--------------+--------------+------------------------+----------------------+\n",
      "only showing top 20 rows\n",
      "\n"
     ]
    }
   ],
   "source": [
    "time_violation_analysis.show()"
   ]
  },
  {
   "cell_type": "code",
   "execution_count": null,
   "metadata": {},
   "outputs": [],
   "source": [
    "# - Divide 24 hours into six equal discrete bins of time. Choose the intervals as you see fit. \n",
    "# For each of these groups, find the three most commonly occurring violations.\n",
    "# (Hint: Use the CASE-WHEN in SQL view to segregate into bins.\n",
    "# To find the most commonly occurring violations, you can use an approach similar to the one \n",
    "# mentioned in the hint for question 4.)\n"
   ]
  },
  {
   "cell_type": "code",
   "execution_count": 89,
   "metadata": {},
   "outputs": [
    {
     "name": "stdout",
     "output_type": "stream",
     "text": [
      "+-----------+--------------+-------+\n",
      "|bins       |Violation Code|count  |\n",
      "+-----------+--------------+-------+\n",
      "|08:00-11:59|21            |1182689|\n",
      "|08:00-11:59|36            |751422 |\n",
      "|12:00-15:59|36            |376961 |\n",
      "|12:00-15:59|38            |356253 |\n",
      "|08:00-11:59|38            |346518 |\n",
      "|08:00-11:59|14            |274288 |\n",
      "|12:00-15:59|37            |265848 |\n",
      "|08:00-11:59|46            |213696 |\n",
      "|20:00-23:59|36            |211434 |\n",
      "|16:00-19:59|38            |203232 |\n",
      "|12:00-15:59|14            |201379 |\n",
      "|08:00-11:59|71            |192307 |\n",
      "|12:00-15:59|20            |177007 |\n",
      "|08:00-11:59|20            |175688 |\n",
      "|12:00-15:59|46            |172962 |\n",
      "|12:00-15:59|71            |155062 |\n",
      "|20:00-23:59|38            |153537 |\n",
      "|16:00-19:59|37            |145784 |\n",
      "|16:00-19:59|14            |144749 |\n",
      "|20:00-23:59|21            |144082 |\n",
      "|04:00-07:59|14            |141276 |\n",
      "|08:00-11:59|40            |132488 |\n",
      "|16:00-19:59|7             |131768 |\n",
      "|04:00-07:59|21            |119469 |\n",
      "|04:00-07:59|40            |112186 |\n",
      "|12:00-15:59|7             |112142 |\n",
      "|08:00-11:59|7             |105144 |\n",
      "|12:00-15:59|40            |102427 |\n",
      "|08:00-11:59|70            |101341 |\n",
      "|08:00-11:59|37            |101230 |\n",
      "|20:00-23:59|14            |99740  |\n",
      "|20:00-23:59|7             |97984  |\n",
      "|08:00-11:59|19            |92093  |\n",
      "|16:00-19:59|46            |85553  |\n",
      "|04:00-07:59|20            |84647  |\n",
      "|20:00-23:59|37            |83634  |\n",
      "|16:00-19:59|20            |83350  |\n",
      "|20:00-23:59|46            |81583  |\n",
      "|12:00-15:59|70            |81061  |\n",
      "|00:00-03:59|21            |77461  |\n",
      "|08:00-11:59|69            |75293  |\n",
      "|12:00-15:59|19            |74944  |\n",
      "|20:00-23:59|40            |73456  |\n",
      "|20:00-23:59|20            |73290  |\n",
      "|16:00-19:59|71            |67037  |\n",
      "|08:00-11:59|16            |65407  |\n",
      "|16:00-19:59|5             |63233  |\n",
      "|08:00-11:59|47            |56224  |\n",
      "|12:00-15:59|31            |55571  |\n",
      "|20:00-23:59|71            |55023  |\n",
      "|12:00-15:59|69            |53719  |\n",
      "|12:00-15:59|16            |51205  |\n",
      "|00:00-03:59|40            |50948  |\n",
      "|16:00-19:59|40            |48108  |\n",
      "|04:00-07:59|7             |44060  |\n",
      "|20:00-23:59|19            |43978  |\n",
      "|04:00-07:59|71            |43432  |\n",
      "|08:00-11:59|74            |38262  |\n",
      "|16:00-19:59|19            |36173  |\n",
      "|08:00-11:59|31            |35633  |\n",
      "|16:00-19:59|70            |35622  |\n",
      "|04:00-07:59|36            |33939  |\n",
      "|08:00-11:59|5             |33793  |\n",
      "|04:00-07:59|46            |32489  |\n",
      "|04:00-07:59|19            |32383  |\n",
      "|00:00-03:59|78            |32243  |\n",
      "|00:00-03:59|14            |32065  |\n",
      "|08:00-11:59|84            |31901  |\n",
      "|16:00-19:59|31            |31678  |\n",
      "|20:00-23:59|70            |30623  |\n",
      "|12:00-15:59|42            |30503  |\n",
      "|08:00-11:59|48            |29571  |\n",
      "|12:00-15:59|47            |29431  |\n",
      "|08:00-11:59|50            |29340  |\n",
      "|12:00-15:59|5             |29126  |\n",
      "|12:00-15:59|48            |28771  |\n",
      "|12:00-15:59|74            |28359  |\n",
      "|16:00-19:59|36            |26858  |\n",
      "|00:00-03:59|7             |25297  |\n",
      "|00:00-03:59|20            |24611  |\n",
      "|08:00-11:59|17            |23219  |\n",
      "|16:00-19:59|9             |23067  |\n",
      "|04:00-07:59|70            |21242  |\n",
      "|20:00-23:59|78            |21053  |\n",
      "|12:00-15:59|50            |20836  |\n",
      "|04:00-07:59|69            |20664  |\n",
      "|12:00-15:59|24            |20552  |\n",
      "|04:00-07:59|50            |20334  |\n",
      "|08:00-11:59|24            |19780  |\n",
      "|12:00-15:59|17            |19625  |\n",
      "|08:00-11:59|9             |18649  |\n",
      "|04:00-07:59|84            |18253  |\n",
      "|16:00-19:59|16            |17878  |\n",
      "|20:00-23:59|69            |17651  |\n",
      "|08:00-11:59|10            |17510  |\n",
      "|08:00-11:59|51            |17387  |\n",
      "|04:00-07:59|24            |16866  |\n",
      "|12:00-15:59|51            |16644  |\n",
      "|16:00-19:59|69            |16180  |\n",
      "|08:00-11:59|42            |15148  |\n",
      "+-----------+--------------+-------+\n",
      "only showing top 100 rows\n",
      "\n"
     ]
    }
   ],
   "source": [
    "time_violation_analysis.groupBy(\"bins\",'Violation Code').count().orderBy(\"count\",ascending=False).show(100,False)"
   ]
  },
  {
   "cell_type": "code",
   "execution_count": 90,
   "metadata": {},
   "outputs": [
    {
     "name": "stdout",
     "output_type": "stream",
     "text": [
      "+-----------+--------------+------+\n",
      "|bins       |Violation Code|count |\n",
      "+-----------+--------------+------+\n",
      "|20:00-23:59|98            |10154 |\n",
      "|20:00-23:59|23            |2590  |\n",
      "|20:00-23:59|10            |5327  |\n",
      "|20:00-23:59|55            |44    |\n",
      "|20:00-23:59|65            |73    |\n",
      "|20:00-23:59|39            |242   |\n",
      "|20:00-23:59|46            |81583 |\n",
      "|20:00-23:59|24            |6177  |\n",
      "|20:00-23:59|13            |3030  |\n",
      "|20:00-23:59|56            |234   |\n",
      "|20:00-23:59|3             |31    |\n",
      "|20:00-23:59|19            |43978 |\n",
      "|20:00-23:59|89            |398   |\n",
      "|20:00-23:59|69            |17651 |\n",
      "|20:00-23:59|43            |62    |\n",
      "|20:00-23:59|48            |9801  |\n",
      "|20:00-23:59|99            |729   |\n",
      "|20:00-23:59|6             |139   |\n",
      "|20:00-23:59|2             |14    |\n",
      "|20:00-23:59|52            |90    |\n",
      "|20:00-23:59|80            |523   |\n",
      "|20:00-23:59|93            |6     |\n",
      "|20:00-23:59|83            |1153  |\n",
      "|20:00-23:59|82            |3892  |\n",
      "|20:00-23:59|11            |701   |\n",
      "|20:00-23:59|58            |17    |\n",
      "|20:00-23:59|31            |13770 |\n",
      "|20:00-23:59|96            |19    |\n",
      "|20:00-23:59|64            |1466  |\n",
      "|20:00-23:59|0             |31    |\n",
      "|20:00-23:59|60            |1072  |\n",
      "|20:00-23:59|97            |31    |\n",
      "|20:00-23:59|4             |172   |\n",
      "|20:00-23:59|45            |1687  |\n",
      "|20:00-23:59|51            |7609  |\n",
      "|20:00-23:59|33            |9     |\n",
      "|20:00-23:59|71            |55023 |\n",
      "|20:00-23:59|67            |2363  |\n",
      "|20:00-23:59|40            |73456 |\n",
      "|20:00-23:59|30            |57    |\n",
      "|20:00-23:59|36            |211434|\n",
      "|20:00-23:59|72            |743   |\n",
      "|20:00-23:59|73            |357   |\n",
      "|20:00-23:59|63            |813   |\n",
      "|20:00-23:59|21            |144082|\n",
      "|20:00-23:59|1             |49    |\n",
      "|20:00-23:59|5             |7439  |\n",
      "|20:00-23:59|53            |4784  |\n",
      "|20:00-23:59|91            |139   |\n",
      "|20:00-23:59|90            |14    |\n",
      "|20:00-23:59|26            |120   |\n",
      "|20:00-23:59|17            |10633 |\n",
      "|20:00-23:59|8             |182   |\n",
      "|20:00-23:59|41            |786   |\n",
      "|20:00-23:59|77            |2230  |\n",
      "|20:00-23:59|37            |83634 |\n",
      "|20:00-23:59|79            |293   |\n",
      "|20:00-23:59|66            |5786  |\n",
      "|20:00-23:59|20            |73290 |\n",
      "|20:00-23:59|84            |5481  |\n",
      "|20:00-23:59|85            |1345  |\n",
      "|20:00-23:59|47            |11203 |\n",
      "|20:00-23:59|7             |97984 |\n",
      "|20:00-23:59|38            |153537|\n",
      "|20:00-23:59|50            |12131 |\n",
      "|20:00-23:59|49            |128   |\n",
      "|20:00-23:59|29            |7     |\n",
      "|20:00-23:59|61            |1601  |\n",
      "|20:00-23:59|14            |99740 |\n",
      "|20:00-23:59|62            |694   |\n",
      "|20:00-23:59|27            |894   |\n",
      "|20:00-23:59|42            |8543  |\n",
      "|20:00-23:59|70            |30623 |\n",
      "|20:00-23:59|25            |18    |\n",
      "|20:00-23:59|74            |12229 |\n",
      "|20:00-23:59|75            |853   |\n",
      "|20:00-23:59|94            |35    |\n",
      "|20:00-23:59|78            |21053 |\n",
      "|20:00-23:59|68            |6112  |\n",
      "|20:00-23:59|35            |727   |\n",
      "|20:00-23:59|95            |43    |\n",
      "|20:00-23:59|92            |7     |\n",
      "|20:00-23:59|22            |8     |\n",
      "|20:00-23:59|88            |9     |\n",
      "|20:00-23:59|81            |4     |\n",
      "|20:00-23:59|76            |4     |\n",
      "|20:00-23:59|12            |10    |\n",
      "|20:00-23:59|54            |2     |\n",
      "|20:00-23:59|34            |1     |\n",
      "|20:00-23:59|28            |1     |\n",
      "|20:00-23:59|15            |3     |\n",
      "|20:00-23:59|86            |1     |\n",
      "|20:00-23:59|32            |2     |\n",
      "|20:00-23:59|59            |31    |\n",
      "|20:00-23:59|9             |1179  |\n",
      "|20:00-23:59|16            |13445 |\n",
      "|20:00-23:59|18            |1192  |\n",
      "|16:00-19:59|91            |99    |\n",
      "|16:00-19:59|81            |8     |\n",
      "|16:00-19:59|50            |9847  |\n",
      "+-----------+--------------+------+\n",
      "only showing top 100 rows\n",
      "\n"
     ]
    }
   ],
   "source": [
    "time_violation_analysis.groupBy(\"bins\",'Violation Code').count().orderBy(\"bins\",ascending=False).show(100,False)"
   ]
  },
  {
   "cell_type": "code",
   "execution_count": 93,
   "metadata": {},
   "outputs": [],
   "source": [
    "# Updating the SQL view\n",
    "time_violation_analysis.createOrReplaceTempView('time_violation_data')"
   ]
  },
  {
   "cell_type": "code",
   "execution_count": 94,
   "metadata": {},
   "outputs": [
    {
     "name": "stdout",
     "output_type": "stream",
     "text": [
      "+-----------+--------------+-----+\n",
      "|       bins|Violation Code|count|\n",
      "+-----------+--------------+-----+\n",
      "|00:00-03:59|            21|77461|\n",
      "|00:00-03:59|            40|50948|\n",
      "|00:00-03:59|            78|32243|\n",
      "+-----------+--------------+-----+\n",
      "\n"
     ]
    }
   ],
   "source": [
    "spark.sql(\"SELECT bins, `Violation Code`, count(*) as `count`\\\n",
    "                    FROM time_violation_data where bins = '00:00-03:59'\\\n",
    "                    group by bins, `Violation Code`\\\n",
    "                    order by `count` desc limit 3\").show()"
   ]
  },
  {
   "cell_type": "code",
   "execution_count": 95,
   "metadata": {},
   "outputs": [
    {
     "name": "stdout",
     "output_type": "stream",
     "text": [
      "+-----------+--------------+------+\n",
      "|       bins|Violation Code| count|\n",
      "+-----------+--------------+------+\n",
      "|04:00-07:59|            14|141276|\n",
      "|04:00-07:59|            21|119469|\n",
      "|04:00-07:59|            40|112186|\n",
      "+-----------+--------------+------+\n",
      "\n"
     ]
    }
   ],
   "source": [
    "spark.sql(\"SELECT bins, `Violation Code`, count(*) as `count`\\\n",
    "                    FROM time_violation_data where bins = '04:00-07:59'\\\n",
    "                    group by bins, `Violation Code`\\\n",
    "                    order by `count` desc limit 3\").show()"
   ]
  },
  {
   "cell_type": "code",
   "execution_count": 96,
   "metadata": {},
   "outputs": [
    {
     "name": "stdout",
     "output_type": "stream",
     "text": [
      "+-----------+--------------+-------+\n",
      "|       bins|Violation Code|  count|\n",
      "+-----------+--------------+-------+\n",
      "|08:00-11:59|            21|1182689|\n",
      "|08:00-11:59|            36| 751422|\n",
      "|08:00-11:59|            38| 346518|\n",
      "+-----------+--------------+-------+\n",
      "\n"
     ]
    }
   ],
   "source": [
    "spark.sql(\"SELECT bins, `Violation Code`, count(*) as `count`\\\n",
    "                    FROM time_violation_data where bins = '08:00-11:59'\\\n",
    "                    group by bins, `Violation Code`\\\n",
    "                    order by `count` desc limit 3\").show()"
   ]
  },
  {
   "cell_type": "code",
   "execution_count": 97,
   "metadata": {},
   "outputs": [
    {
     "name": "stdout",
     "output_type": "stream",
     "text": [
      "+-----------+--------------+------+\n",
      "|       bins|Violation Code| count|\n",
      "+-----------+--------------+------+\n",
      "|12:00-15:59|            36|376961|\n",
      "|12:00-15:59|            38|356253|\n",
      "|12:00-15:59|            37|265848|\n",
      "+-----------+--------------+------+\n",
      "\n"
     ]
    }
   ],
   "source": [
    "spark.sql(\"SELECT bins, `Violation Code`, count(*) as `count`\\\n",
    "                    FROM time_violation_data where bins = '12:00-15:59'\\\n",
    "                    group by bins, `Violation Code`\\\n",
    "                    order by `count` desc limit 3\").show()"
   ]
  },
  {
   "cell_type": "code",
   "execution_count": 98,
   "metadata": {},
   "outputs": [
    {
     "name": "stdout",
     "output_type": "stream",
     "text": [
      "+----+--------------+-----+\n",
      "|bins|Violation Code|count|\n",
      "+----+--------------+-----+\n",
      "+----+--------------+-----+\n",
      "\n"
     ]
    }
   ],
   "source": [
    "spark.sql(\"SELECT bins, `Violation Code`, count(*) as `count`\\\n",
    "                    FROM time_violation_data where bins = '16:00-20:59'\\\n",
    "                    group by bins, `Violation Code`\\\n",
    "                    order by `count` desc limit 3\").show()"
   ]
  },
  {
   "cell_type": "code",
   "execution_count": 99,
   "metadata": {},
   "outputs": [
    {
     "name": "stdout",
     "output_type": "stream",
     "text": [
      "+----+--------------+-----+\n",
      "|bins|Violation Code|count|\n",
      "+----+--------------+-----+\n",
      "+----+--------------+-----+\n",
      "\n"
     ]
    }
   ],
   "source": [
    "spark.sql(\"SELECT bins, `Violation Code`, count(*) as `count`\\\n",
    "                    FROM time_violation_data where bins = '21:00-23:59'\\\n",
    "                    group by bins, `Violation Code`\\\n",
    "                    order by `count` desc limit 3\").show()"
   ]
  },
  {
   "cell_type": "code",
   "execution_count": null,
   "metadata": {},
   "outputs": [],
   "source": []
  }
 ],
 "metadata": {
  "kernelspec": {
   "display_name": "Python 3",
   "language": "python",
   "name": "python3"
  },
  "language_info": {
   "codemirror_mode": {
    "name": "ipython",
    "version": 3
   },
   "file_extension": ".py",
   "mimetype": "text/x-python",
   "name": "python",
   "nbconvert_exporter": "python",
   "pygments_lexer": "ipython3",
   "version": "3.8.5"
  }
 },
 "nbformat": 4,
 "nbformat_minor": 4
}
