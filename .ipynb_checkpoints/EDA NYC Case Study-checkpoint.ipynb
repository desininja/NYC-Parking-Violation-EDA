{
 "cells": [
  {
   "cell_type": "markdown",
   "metadata": {},
   "source": [
    "Objectives of the Case Study\n",
    "Primarily, this case study is meant as a deep dive into the usage of Spark. As you saw while working with Spark, its syntax behaves differently from a regular Python syntax. One of the major objectives of this case study is to gain familiarity with how analysis works in PySpark as opposed to base Python.\n",
    "\n",
    "Learning the basic idea behind using functions in PySpark can help in using other libraries like SparkR. If you are in a company where R is a primary language, you can easily pick up SparkR syntax and use Spark’s processing power.\n",
    "\n",
    "The process of running a model-building command boils down to a few lines of code. While drawing inferences from data, the most time-consuming step is preparing the data up to the point of model building. So, this case study will focus more on exploratory analysis."
   ]
  },
  {
   "cell_type": "markdown",
   "metadata": {},
   "source": [
    "Problem Statement\n",
    "Big data analytics allows you to analyse data at scale. It has applications in almost every industry in the world. Let’s consider an unconventional application that you wouldn’t ordinarily encounter.\n",
    "\n",
    " \n",
    "\n",
    "New York City is a thriving metropolis. Just like most other metros its size, one of the biggest problems its citizens face is parking. The classic combination of a huge number of cars and cramped geography leads to a huge number of parking tickets.\n",
    "\n",
    " \n",
    "\n",
    "In an attempt to scientifically analyse this phenomenon, the NYC Police Department has collected data for parking tickets. Of these, the data files for multiple years are publicly available on Kaggle. We will try and perform some exploratory analysis on a part of this data. Spark will allow us to analyse the full files at high speeds as opposed to taking a series of random samples that will approximate the population. For the scope of this analysis, we will analyse the parking tickets over the year 2017. \n",
    "\n",
    " \n",
    "\n",
    "Note: Although the broad goal of any analysis of this type is to have better parking and fewer tickets, we are not looking for recommendations on how to reduce the number of parking tickets—there are no specific points reserved for this.\n",
    "\n",
    " \n",
    "\n",
    "The purpose of this case study is to conduct an exploratory data analysis that will help you understand the data. Since the size of the dataset is large, your queries will take some time to run, and you will need to identify the correct queries quicker. The questions given below will guide your analysis.\n",
    "\n",
    " \n",
    "\n",
    "The dataset structure is available on this page along with the data.\n",
    "\n",
    "https://www.kaggle.com/new-york-city/nyc-parking-tickets/data"
   ]
  },
  {
   "cell_type": "markdown",
   "metadata": {},
   "source": [
    "General Guidelines:\n",
    "The queries may take time to get executed. Please have some patience. If you are getting errors with correct queries, restart the PySpark session and try again, as the session may have expired.\n",
    "Keep a copy of the commands on your local drive or S3 so that you do not lose any work in case of session expiry or you need to close the EMR instance for the timebeing. \n",
    "If you want to run SQL commands, create an SQL view first. Also, if you make any changes in the table (like substitution or dropping null values), please ensure that you update the SQL view related to that table for further analysis.\n",
    "Remember to stop Spark whenever you finish working on the cluster. Use spark.stop()."
   ]
  },
  {
   "cell_type": "markdown",
   "metadata": {},
   "source": [
    "# Questions to Be Answered in the Analysis\n",
    "The following analysis should be performed on PySpark mounted on your EMR notebook instance, using the PySpark library. Remember that you need to summarise the analysis with your insights along with the code.\n",
    "\n",
    " \n",
    "\n",
    "## Examine the data\n",
    "\n",
    "- Find the total number of tickets for the year.\n",
    "- Find out the number of unique states from where the cars that got parking tickets came. (Hint: Use the column 'Registration State'.)\n",
    "    There is a numeric entry '99' in the column, which should be corrected. Replace it with the state having the maximum entries. Provide the number of unique states again.\n",
    " \n",
    "\n",
    "### Aggregation tasks\n",
    "\n",
    "- How often does each violation code occur? Display the frequency of the top five violation codes.\n",
    "- How often does each 'vehicle body type' get a parking ticket? How about the 'vehicle make'? (Hint: Find the top 5 for both.)\n",
    "- A precinct is a police station that has a certain zone of the city under its command. Find the (5 highest) frequencies of tickets for each of the following:\n",
    "    - 'Violation Precinct' (This is the precinct of the zone where the violation occurred). Using this, can you draw any insights for parking violations in any specific areas of the city?\n",
    "    - 'Issuer Precinct' (This is the precinct that issued the ticket.) Here, you would have noticed that the dataframe has the 'Violating Precinct' or 'Issuing Precinct' as '0'. These are erroneous entries. Hence, you need to provide the records for five correct precincts. (Hint: Print the top six entries after sorting.)\n",
    "- Find the violation code frequencies for three precincts that have issued the most number of tickets. Do these precinct zones have an exceptionally high frequency of certain violation codes? Are these codes common across precincts? \n",
    "    (Hint: In the SQL view, use the 'where' attribute to filter among three precincts.)\n",
    "- Find out the properties of parking violations across different times of the day:\n",
    "    - Find a way to deal with missing values, if any.\n",
    "        (Hint: Check for the null values using 'isNull' under the SQL. Also, to remove the null values, check the 'dropna' command in the API documentation.)\n",
    "\n",
    "    - The Violation Time field is specified in a strange format. Find a way to make this a time attribute that you can use to divide into groups.\n",
    "\n",
    "    - Divide 24 hours into six equal discrete bins of time. Choose the intervals as you see fit. For each of these groups, find the three most commonly occurring violations.\n",
    "        (Hint: Use the CASE-WHEN in SQL view to segregate into bins. To find the most commonly occurring violations, you can use an approach similar to the one mentioned in the hint for question 4.)\n",
    "\n",
    "    - Now, try another direction. For the three most commonly occurring violation codes, find the most common time of the day (in terms of the bins from the previous part).\n",
    "\n",
    "- Let’s try and find some seasonality in this data:\n",
    "\n",
    "    - First, divide the year into a certain number of seasons, and find the frequencies of tickets for each season. (Hint: Use Issue Date to segregate into seasons.)\n",
    "\n",
    "    - Then, find the three most common violations for each of these seasons.\n",
    "        (Hint: You can use an approach similar to the one mentioned in the hint for question 4.)\n",
    "\n",
    "- The fines collected from all the instances of parking violation constitute a source of revenue for the NYC Police Department. Let’s take an example of estimating this for the three most commonly occurring codes:\n",
    "    - Find the total occurrences of the three most common violation codes.\n",
    "    - Then, visit the website:\n",
    "        http://www1.nyc.gov/site/finance/vehicles/services-violation-codes.page\n",
    "        It lists the fines associated with different violation codes. They’re divided into two categories: one for the highest-density locations in the city and the other for the rest of the city. For the sake of simplicity, take the average of the two.\n",
    "    - Using this information, find the total amount collected for the three violation codes with the maximum tickets. State the code that has the highest total collection.\n",
    "    - What can you intuitively infer from these findings?"
   ]
  },
  {
   "cell_type": "code",
   "execution_count": 6,
   "metadata": {},
   "outputs": [],
   "source": [
    "from pyspark.sql import SparkSession\n",
    "from pyspark.sql.functions import *\n",
    "from pyspark.sql.types import *"
   ]
  },
  {
   "cell_type": "code",
   "execution_count": 10,
   "metadata": {},
   "outputs": [],
   "source": [
    "\n",
    "spark.conf.set(\"spark.sql.legacy.timeParserPolicy\", \"LEGACY\")"
   ]
  },
  {
   "cell_type": "code",
   "execution_count": 2,
   "metadata": {},
   "outputs": [],
   "source": [
    "spark = SparkSession.builder.appName('NYC EDA').getOrCreate()"
   ]
  },
  {
   "cell_type": "code",
   "execution_count": 3,
   "metadata": {},
   "outputs": [],
   "source": [
    "df = spark.read.csv(\"Parking_Violations_2017.csv\",inferSchema=True, header=True,sep=',')"
   ]
  },
  {
   "cell_type": "code",
   "execution_count": 4,
   "metadata": {},
   "outputs": [
    {
     "name": "stdout",
     "output_type": "stream",
     "text": [
      "root\n",
      " |-- Summons Number: long (nullable = true)\n",
      " |-- Plate ID: string (nullable = true)\n",
      " |-- Registration State: string (nullable = true)\n",
      " |-- Plate Type: string (nullable = true)\n",
      " |-- Issue Date: string (nullable = true)\n",
      " |-- Violation Code: integer (nullable = true)\n",
      " |-- Vehicle Body Type: string (nullable = true)\n",
      " |-- Vehicle Make: string (nullable = true)\n",
      " |-- Issuing Agency: string (nullable = true)\n",
      " |-- Street Code1: integer (nullable = true)\n",
      " |-- Street Code2: integer (nullable = true)\n",
      " |-- Street Code3: integer (nullable = true)\n",
      " |-- Vehicle Expiration Date: integer (nullable = true)\n",
      " |-- Violation Location: integer (nullable = true)\n",
      " |-- Violation Precinct: integer (nullable = true)\n",
      " |-- Issuer Precinct: integer (nullable = true)\n",
      " |-- Issuer Code: integer (nullable = true)\n",
      " |-- Issuer Command: string (nullable = true)\n",
      " |-- Issuer Squad: string (nullable = true)\n",
      " |-- Violation Time: string (nullable = true)\n",
      " |-- Time First Observed: string (nullable = true)\n",
      " |-- Violation County: string (nullable = true)\n",
      " |-- Violation In Front Of Or Opposite: string (nullable = true)\n",
      " |-- House Number: string (nullable = true)\n",
      " |-- Street Name: string (nullable = true)\n",
      " |-- Intersecting Street: string (nullable = true)\n",
      " |-- Date First Observed: integer (nullable = true)\n",
      " |-- Law Section: integer (nullable = true)\n",
      " |-- Sub Division: string (nullable = true)\n",
      " |-- Violation Legal Code: string (nullable = true)\n",
      " |-- Days Parking In Effect    : string (nullable = true)\n",
      " |-- From Hours In Effect: string (nullable = true)\n",
      " |-- To Hours In Effect: string (nullable = true)\n",
      " |-- Vehicle Color: string (nullable = true)\n",
      " |-- Unregistered Vehicle?: integer (nullable = true)\n",
      " |-- Vehicle Year: integer (nullable = true)\n",
      " |-- Meter Number: string (nullable = true)\n",
      " |-- Feet From Curb: integer (nullable = true)\n",
      " |-- Violation Post Code: string (nullable = true)\n",
      " |-- Violation Description: string (nullable = true)\n",
      " |-- No Standing or Stopping Violation: string (nullable = true)\n",
      " |-- Hydrant Violation: string (nullable = true)\n",
      " |-- Double Parking Violation: string (nullable = true)\n",
      "\n"
     ]
    }
   ],
   "source": [
    "df.printSchema()"
   ]
  },
  {
   "cell_type": "code",
   "execution_count": 5,
   "metadata": {},
   "outputs": [
    {
     "name": "stdout",
     "output_type": "stream",
     "text": [
      "+--------------+--------+------------------+----------+----------+--------------+-----------------+------------+--------------+------------+------------+------------+-----------------------+------------------+------------------+---------------+-----------+--------------+------------+--------------+-------------------+----------------+---------------------------------+------------+--------------------+-------------------+-------------------+-----------+------------+--------------------+--------------------------+--------------------+------------------+-------------+---------------------+------------+------------+--------------+-------------------+----------------------------+---------------------------------+-----------------+------------------------+\n",
      "|Summons Number|Plate ID|Registration State|Plate Type|Issue Date|Violation Code|Vehicle Body Type|Vehicle Make|Issuing Agency|Street Code1|Street Code2|Street Code3|Vehicle Expiration Date|Violation Location|Violation Precinct|Issuer Precinct|Issuer Code|Issuer Command|Issuer Squad|Violation Time|Time First Observed|Violation County|Violation In Front Of Or Opposite|House Number|Street Name         |Intersecting Street|Date First Observed|Law Section|Sub Division|Violation Legal Code|Days Parking In Effect    |From Hours In Effect|To Hours In Effect|Vehicle Color|Unregistered Vehicle?|Vehicle Year|Meter Number|Feet From Curb|Violation Post Code|Violation Description       |No Standing or Stopping Violation|Hydrant Violation|Double Parking Violation|\n",
      "+--------------+--------+------------------+----------+----------+--------------+-----------------+------------+--------------+------------+------------+------------+-----------------------+------------------+------------------+---------------+-----------+--------------+------------+--------------+-------------------+----------------+---------------------------------+------------+--------------------+-------------------+-------------------+-----------+------------+--------------------+--------------------------+--------------------+------------------+-------------+---------------------+------------+------------+--------------+-------------------+----------------------------+---------------------------------+-----------------+------------------------+\n",
      "|5092469481    |GZH7067 |NY                |PAS       |07/10/2016|7             |SUBN             |TOYOT       |V             |0           |0           |0           |0                      |null              |0                 |0              |0          |null          |null        |0143A         |null               |BX              |null                             |null        |ALLERTON AVE (W/B) @|BARNES AVE         |0                  |1111       |D           |T                   |null                      |null                |null              |GY           |null                 |2001        |null        |0             |null               |FAILURE TO STOP AT RED LIGHT|null                             |null             |null                    |\n",
      "|5092451658    |GZH7067 |NY                |PAS       |07/08/2016|7             |SUBN             |TOYOT       |V             |0           |0           |0           |0                      |null              |0                 |0              |0          |null          |null        |0400P         |null               |BX              |null                             |null        |ALLERTON AVE (W/B) @|BARNES AVE         |0                  |1111       |D           |T                   |null                      |null                |null              |GY           |null                 |2001        |null        |0             |null               |FAILURE TO STOP AT RED LIGHT|null                             |null             |null                    |\n",
      "|4006265037    |FZX9232 |NY                |PAS       |08/23/2016|5             |SUBN             |FORD        |V             |0           |0           |0           |0                      |null              |0                 |0              |0          |null          |null        |0233P         |null               |BX              |null                             |null        |SB WEBSTER AVE @ E 1|94TH ST            |0                  |1111       |C           |T                   |null                      |null                |null              |BK           |null                 |2004        |null        |0             |null               |BUS LANE VIOLATION          |null                             |null             |null                    |\n",
      "+--------------+--------+------------------+----------+----------+--------------+-----------------+------------+--------------+------------+------------+------------+-----------------------+------------------+------------------+---------------+-----------+--------------+------------+--------------+-------------------+----------------+---------------------------------+------------+--------------------+-------------------+-------------------+-----------+------------+--------------------+--------------------------+--------------------+------------------+-------------+---------------------+------------+------------+--------------+-------------------+----------------------------+---------------------------------+-----------------+------------------------+\n",
      "only showing top 3 rows\n",
      "\n"
     ]
    }
   ],
   "source": [
    "df.show(3,False)"
   ]
  },
  {
   "cell_type": "markdown",
   "metadata": {},
   "source": [
    "Examine the data\n",
    "Find the total number of tickets for the year.\n",
    "Find out the number of unique states from where the cars that got parking tickets came. (Hint: Use the column 'Registration State'.) There is a numeric entry '99' in the column, which should be corrected. Replace it with the state having the maximum entries. Provide the number of unique states again."
   ]
  },
  {
   "cell_type": "code",
   "execution_count": 32,
   "metadata": {},
   "outputs": [],
   "source": [
    "date_pattern = 'dd/MM/YYYY'\n",
    "df2 = df.withColumn('Issue Date',to_timestamp(df['Issue Date'],date_pattern))"
   ]
  },
  {
   "cell_type": "code",
   "execution_count": 33,
   "metadata": {},
   "outputs": [
    {
     "name": "stdout",
     "output_type": "stream",
     "text": [
      "root\n",
      " |-- Summons Number: long (nullable = true)\n",
      " |-- Plate ID: string (nullable = true)\n",
      " |-- Registration State: string (nullable = true)\n",
      " |-- Plate Type: string (nullable = true)\n",
      " |-- Issue Date: timestamp (nullable = true)\n",
      " |-- Violation Code: integer (nullable = true)\n",
      " |-- Vehicle Body Type: string (nullable = true)\n",
      " |-- Vehicle Make: string (nullable = true)\n",
      " |-- Issuing Agency: string (nullable = true)\n",
      " |-- Street Code1: integer (nullable = true)\n",
      " |-- Street Code2: integer (nullable = true)\n",
      " |-- Street Code3: integer (nullable = true)\n",
      " |-- Vehicle Expiration Date: integer (nullable = true)\n",
      " |-- Violation Location: integer (nullable = true)\n",
      " |-- Violation Precinct: integer (nullable = true)\n",
      " |-- Issuer Precinct: integer (nullable = true)\n",
      " |-- Issuer Code: integer (nullable = true)\n",
      " |-- Issuer Command: string (nullable = true)\n",
      " |-- Issuer Squad: string (nullable = true)\n",
      " |-- Violation Time: string (nullable = true)\n",
      " |-- Time First Observed: string (nullable = true)\n",
      " |-- Violation County: string (nullable = true)\n",
      " |-- Violation In Front Of Or Opposite: string (nullable = true)\n",
      " |-- House Number: string (nullable = true)\n",
      " |-- Street Name: string (nullable = true)\n",
      " |-- Intersecting Street: string (nullable = true)\n",
      " |-- Date First Observed: integer (nullable = true)\n",
      " |-- Law Section: integer (nullable = true)\n",
      " |-- Sub Division: string (nullable = true)\n",
      " |-- Violation Legal Code: string (nullable = true)\n",
      " |-- Days Parking In Effect    : string (nullable = true)\n",
      " |-- From Hours In Effect: string (nullable = true)\n",
      " |-- To Hours In Effect: string (nullable = true)\n",
      " |-- Vehicle Color: string (nullable = true)\n",
      " |-- Unregistered Vehicle?: integer (nullable = true)\n",
      " |-- Vehicle Year: integer (nullable = true)\n",
      " |-- Meter Number: string (nullable = true)\n",
      " |-- Feet From Curb: integer (nullable = true)\n",
      " |-- Violation Post Code: string (nullable = true)\n",
      " |-- Violation Description: string (nullable = true)\n",
      " |-- No Standing or Stopping Violation: string (nullable = true)\n",
      " |-- Hydrant Violation: string (nullable = true)\n",
      " |-- Double Parking Violation: string (nullable = true)\n",
      "\n"
     ]
    }
   ],
   "source": [
    "df2.printSchema()"
   ]
  },
  {
   "cell_type": "code",
   "execution_count": 34,
   "metadata": {},
   "outputs": [
    {
     "name": "stdout",
     "output_type": "stream",
     "text": [
      "+--------------+--------+------------------+----------+-------------------+--------------+-----------------+------------+--------------+------------+------------+------------+-----------------------+------------------+------------------+---------------+-----------+--------------+------------+--------------+-------------------+----------------+---------------------------------+------------+--------------------+-------------------+-------------------+-----------+------------+--------------------+--------------------------+--------------------+------------------+-------------+---------------------+------------+------------+--------------+-------------------+----------------------------+---------------------------------+-----------------+------------------------+\n",
      "|Summons Number|Plate ID|Registration State|Plate Type|Issue Date         |Violation Code|Vehicle Body Type|Vehicle Make|Issuing Agency|Street Code1|Street Code2|Street Code3|Vehicle Expiration Date|Violation Location|Violation Precinct|Issuer Precinct|Issuer Code|Issuer Command|Issuer Squad|Violation Time|Time First Observed|Violation County|Violation In Front Of Or Opposite|House Number|Street Name         |Intersecting Street|Date First Observed|Law Section|Sub Division|Violation Legal Code|Days Parking In Effect    |From Hours In Effect|To Hours In Effect|Vehicle Color|Unregistered Vehicle?|Vehicle Year|Meter Number|Feet From Curb|Violation Post Code|Violation Description       |No Standing or Stopping Violation|Hydrant Violation|Double Parking Violation|\n",
      "+--------------+--------+------------------+----------+-------------------+--------------+-----------------+------------+--------------+------------+------------+------------+-----------------------+------------------+------------------+---------------+-----------+--------------+------------+--------------+-------------------+----------------+---------------------------------+------------+--------------------+-------------------+-------------------+-----------+------------+--------------------+--------------------------+--------------------+------------------+-------------+---------------------+------------+------------+--------------+-------------------+----------------------------+---------------------------------+-----------------+------------------------+\n",
      "|5092469481    |GZH7067 |NY                |PAS       |2015-12-27 00:00:00|7             |SUBN             |TOYOT       |V             |0           |0           |0           |0                      |null              |0                 |0              |0          |null          |null        |0143A         |null               |BX              |null                             |null        |ALLERTON AVE (W/B) @|BARNES AVE         |0                  |1111       |D           |T                   |null                      |null                |null              |GY           |null                 |2001        |null        |0             |null               |FAILURE TO STOP AT RED LIGHT|null                             |null             |null                    |\n",
      "|5092451658    |GZH7067 |NY                |PAS       |2015-12-27 00:00:00|7             |SUBN             |TOYOT       |V             |0           |0           |0           |0                      |null              |0                 |0              |0          |null          |null        |0400P         |null               |BX              |null                             |null        |ALLERTON AVE (W/B) @|BARNES AVE         |0                  |1111       |D           |T                   |null                      |null                |null              |GY           |null                 |2001        |null        |0             |null               |FAILURE TO STOP AT RED LIGHT|null                             |null             |null                    |\n",
      "|4006265037    |FZX9232 |NY                |PAS       |2015-12-27 00:00:00|5             |SUBN             |FORD        |V             |0           |0           |0           |0                      |null              |0                 |0              |0          |null          |null        |0233P         |null               |BX              |null                             |null        |SB WEBSTER AVE @ E 1|94TH ST            |0                  |1111       |C           |T                   |null                      |null                |null              |BK           |null                 |2004        |null        |0             |null               |BUS LANE VIOLATION          |null                             |null             |null                    |\n",
      "+--------------+--------+------------------+----------+-------------------+--------------+-----------------+------------+--------------+------------+------------+------------+-----------------------+------------------+------------------+---------------+-----------+--------------+------------+--------------+-------------------+----------------+---------------------------------+------------+--------------------+-------------------+-------------------+-----------+------------+--------------------+--------------------------+--------------------+------------------+-------------+---------------------+------------+------------+--------------+-------------------+----------------------------+---------------------------------+-----------------+------------------------+\n",
      "only showing top 3 rows\n",
      "\n"
     ]
    }
   ],
   "source": [
    "df2.show(3,truncate=False)"
   ]
  },
  {
   "cell_type": "code",
   "execution_count": 35,
   "metadata": {},
   "outputs": [],
   "source": [
    "df2 = df2.withColumn(\"Year_Column\",year(\"Issue Date\"))"
   ]
  },
  {
   "cell_type": "code",
   "execution_count": 36,
   "metadata": {},
   "outputs": [
    {
     "name": "stdout",
     "output_type": "stream",
     "text": [
      "root\n",
      " |-- Summons Number: long (nullable = true)\n",
      " |-- Plate ID: string (nullable = true)\n",
      " |-- Registration State: string (nullable = true)\n",
      " |-- Plate Type: string (nullable = true)\n",
      " |-- Issue Date: timestamp (nullable = true)\n",
      " |-- Violation Code: integer (nullable = true)\n",
      " |-- Vehicle Body Type: string (nullable = true)\n",
      " |-- Vehicle Make: string (nullable = true)\n",
      " |-- Issuing Agency: string (nullable = true)\n",
      " |-- Street Code1: integer (nullable = true)\n",
      " |-- Street Code2: integer (nullable = true)\n",
      " |-- Street Code3: integer (nullable = true)\n",
      " |-- Vehicle Expiration Date: integer (nullable = true)\n",
      " |-- Violation Location: integer (nullable = true)\n",
      " |-- Violation Precinct: integer (nullable = true)\n",
      " |-- Issuer Precinct: integer (nullable = true)\n",
      " |-- Issuer Code: integer (nullable = true)\n",
      " |-- Issuer Command: string (nullable = true)\n",
      " |-- Issuer Squad: string (nullable = true)\n",
      " |-- Violation Time: string (nullable = true)\n",
      " |-- Time First Observed: string (nullable = true)\n",
      " |-- Violation County: string (nullable = true)\n",
      " |-- Violation In Front Of Or Opposite: string (nullable = true)\n",
      " |-- House Number: string (nullable = true)\n",
      " |-- Street Name: string (nullable = true)\n",
      " |-- Intersecting Street: string (nullable = true)\n",
      " |-- Date First Observed: integer (nullable = true)\n",
      " |-- Law Section: integer (nullable = true)\n",
      " |-- Sub Division: string (nullable = true)\n",
      " |-- Violation Legal Code: string (nullable = true)\n",
      " |-- Days Parking In Effect    : string (nullable = true)\n",
      " |-- From Hours In Effect: string (nullable = true)\n",
      " |-- To Hours In Effect: string (nullable = true)\n",
      " |-- Vehicle Color: string (nullable = true)\n",
      " |-- Unregistered Vehicle?: integer (nullable = true)\n",
      " |-- Vehicle Year: integer (nullable = true)\n",
      " |-- Meter Number: string (nullable = true)\n",
      " |-- Feet From Curb: integer (nullable = true)\n",
      " |-- Violation Post Code: string (nullable = true)\n",
      " |-- Violation Description: string (nullable = true)\n",
      " |-- No Standing or Stopping Violation: string (nullable = true)\n",
      " |-- Hydrant Violation: string (nullable = true)\n",
      " |-- Double Parking Violation: string (nullable = true)\n",
      " |-- Year_Column: integer (nullable = true)\n",
      "\n"
     ]
    }
   ],
   "source": [
    "df2.printSchema()"
   ]
  },
  {
   "cell_type": "code",
   "execution_count": 37,
   "metadata": {},
   "outputs": [
    {
     "name": "stdout",
     "output_type": "stream",
     "text": [
      "+-----------+-------+\n",
      "|Year_Column|count  |\n",
      "+-----------+-------+\n",
      "|2017       |5432975|\n",
      "|2015       |5368391|\n",
      "|2018       |472    |\n",
      "|2014       |419    |\n",
      "|1999       |185    |\n",
      "|2012       |157    |\n",
      "|2013       |120    |\n",
      "|2026       |50     |\n",
      "|2009       |48     |\n",
      "|2006       |26     |\n",
      "|2025       |24     |\n",
      "|2019       |22     |\n",
      "|2020       |22     |\n",
      "|2010       |22     |\n",
      "|2029       |12     |\n",
      "|2027       |8      |\n",
      "|2023       |8      |\n",
      "|2024       |6      |\n",
      "|2030       |5      |\n",
      "|2068       |5      |\n",
      "+-----------+-------+\n",
      "only showing top 20 rows\n",
      "\n"
     ]
    }
   ],
   "source": [
    "df2.select(\"Year_Column\").groupBy('Year_Column').count().orderBy('count',ascending=False).show(truncate=False)"
   ]
  },
  {
   "cell_type": "code",
   "execution_count": 38,
   "metadata": {},
   "outputs": [
    {
     "name": "stdout",
     "output_type": "stream",
     "text": [
      "+-------------------+\n",
      "|Issue Date         |\n",
      "+-------------------+\n",
      "|2068-01-01 00:00:00|\n",
      "|2068-12-30 00:00:00|\n",
      "|2068-12-30 00:00:00|\n",
      "|2068-12-30 00:00:00|\n",
      "|2068-12-30 00:00:00|\n",
      "+-------------------+\n",
      "\n"
     ]
    }
   ],
   "source": [
    "# Find the total number of tickets for the year.\n",
    "df2.select('Issue Date').filter(df2['Year_Column']==2068).show(truncate=False)"
   ]
  },
  {
   "cell_type": "code",
   "execution_count": 39,
   "metadata": {},
   "outputs": [],
   "source": [
    "#Find out the number of unique states from where the cars that got parking tickets came. \n",
    "#(Hint: Use the column 'Registration State'.) There is a numeric entry '99' in the column, which should be \n",
    "#corrected. Replace it with the state having the maximum entries. Provide the number of unique states again."
   ]
  },
  {
   "cell_type": "code",
   "execution_count": 40,
   "metadata": {},
   "outputs": [
    {
     "data": {
      "text/plain": [
       "67"
      ]
     },
     "execution_count": 40,
     "metadata": {},
     "output_type": "execute_result"
    }
   ],
   "source": [
    "df2.select(\"Registration State\").distinct().count()"
   ]
  },
  {
   "cell_type": "code",
   "execution_count": 41,
   "metadata": {},
   "outputs": [
    {
     "name": "stdout",
     "output_type": "stream",
     "text": [
      "+------------------+-------+\n",
      "|Registration State|count  |\n",
      "+------------------+-------+\n",
      "|NY                |8481061|\n",
      "|NJ                |925965 |\n",
      "|PA                |285419 |\n",
      "|FL                |144556 |\n",
      "|CT                |141088 |\n",
      "|MA                |85547  |\n",
      "|IN                |80749  |\n",
      "|VA                |72626  |\n",
      "|MD                |61800  |\n",
      "|NC                |55806  |\n",
      "|IL                |37329  |\n",
      "|GA                |36852  |\n",
      "|99                |36625  |\n",
      "|TX                |36516  |\n",
      "|AZ                |26426  |\n",
      "|OH                |25302  |\n",
      "|CA                |24260  |\n",
      "|SC                |21836  |\n",
      "|ME                |21574  |\n",
      "|MN                |18227  |\n",
      "|OK                |18165  |\n",
      "|TN                |17275  |\n",
      "|DE                |16325  |\n",
      "|MI                |15703  |\n",
      "|RI                |12224  |\n",
      "|NH                |8752   |\n",
      "|VT                |7367   |\n",
      "|AL                |6891   |\n",
      "|WA                |6311   |\n",
      "|ON                |5601   |\n",
      "|OR                |5483   |\n",
      "|MO                |4454   |\n",
      "|QB                |4406   |\n",
      "|DC                |4250   |\n",
      "|WI                |4197   |\n",
      "|IA                |4186   |\n",
      "|CO                |4093   |\n",
      "|KY                |3833   |\n",
      "|MS                |3599   |\n",
      "|LA                |3466   |\n",
      "|DP                |3192   |\n",
      "|ID                |2920   |\n",
      "|AR                |2621   |\n",
      "|WV                |2545   |\n",
      "|NM                |2322   |\n",
      "|SD                |1865   |\n",
      "|NV                |1846   |\n",
      "|KS                |1501   |\n",
      "|NE                |1462   |\n",
      "|UT                |1152   |\n",
      "|MT                |1032   |\n",
      "|AK                |754    |\n",
      "|NS                |730    |\n",
      "|GV                |704    |\n",
      "|ND                |608    |\n",
      "|WY                |411    |\n",
      "|HI                |408    |\n",
      "|AB                |218    |\n",
      "|NB                |137    |\n",
      "|PE                |128    |\n",
      "|BC                |127    |\n",
      "|PR                |110    |\n",
      "|MB                |40     |\n",
      "|SK                |30     |\n",
      "|FO                |12     |\n",
      "|NT                |4      |\n",
      "|MX                |4      |\n",
      "+------------------+-------+\n",
      "\n"
     ]
    }
   ],
   "source": [
    "df2.select(\"Registration State\").groupBy('Registration State').count().orderBy('count',ascending=False).show(67,truncate=False)\n"
   ]
  },
  {
   "cell_type": "code",
   "execution_count": 42,
   "metadata": {},
   "outputs": [],
   "source": [
    "#replaced 99 with NY as NY is the mostly occuring state in the dataset.\n",
    "\n",
    "df2 = df2.withColumn('Registration State',when(col('Registration State')=='99','NY').otherwise(col('Registration State')))"
   ]
  },
  {
   "cell_type": "code",
   "execution_count": 43,
   "metadata": {},
   "outputs": [
    {
     "name": "stdout",
     "output_type": "stream",
     "text": [
      "+------------------+-------+\n",
      "|Registration State|count  |\n",
      "+------------------+-------+\n",
      "|NY                |8517686|\n",
      "|NJ                |925965 |\n",
      "|PA                |285419 |\n",
      "|FL                |144556 |\n",
      "|CT                |141088 |\n",
      "|MA                |85547  |\n",
      "|IN                |80749  |\n",
      "|VA                |72626  |\n",
      "|MD                |61800  |\n",
      "|NC                |55806  |\n",
      "|IL                |37329  |\n",
      "|GA                |36852  |\n",
      "|TX                |36516  |\n",
      "|AZ                |26426  |\n",
      "|OH                |25302  |\n",
      "|CA                |24260  |\n",
      "|SC                |21836  |\n",
      "|ME                |21574  |\n",
      "|MN                |18227  |\n",
      "|OK                |18165  |\n",
      "|TN                |17275  |\n",
      "|DE                |16325  |\n",
      "|MI                |15703  |\n",
      "|RI                |12224  |\n",
      "|NH                |8752   |\n",
      "|VT                |7367   |\n",
      "|AL                |6891   |\n",
      "|WA                |6311   |\n",
      "|ON                |5601   |\n",
      "|OR                |5483   |\n",
      "|MO                |4454   |\n",
      "|QB                |4406   |\n",
      "|DC                |4250   |\n",
      "|WI                |4197   |\n",
      "|IA                |4186   |\n",
      "|CO                |4093   |\n",
      "|KY                |3833   |\n",
      "|MS                |3599   |\n",
      "|LA                |3466   |\n",
      "|DP                |3192   |\n",
      "|ID                |2920   |\n",
      "|AR                |2621   |\n",
      "|WV                |2545   |\n",
      "|NM                |2322   |\n",
      "|SD                |1865   |\n",
      "|NV                |1846   |\n",
      "|KS                |1501   |\n",
      "|NE                |1462   |\n",
      "|UT                |1152   |\n",
      "|MT                |1032   |\n",
      "|AK                |754    |\n",
      "|NS                |730    |\n",
      "|GV                |704    |\n",
      "|ND                |608    |\n",
      "|WY                |411    |\n",
      "|HI                |408    |\n",
      "|AB                |218    |\n",
      "|NB                |137    |\n",
      "|PE                |128    |\n",
      "|BC                |127    |\n",
      "|PR                |110    |\n",
      "|MB                |40     |\n",
      "|SK                |30     |\n",
      "|FO                |12     |\n",
      "|NT                |4      |\n",
      "|MX                |4      |\n",
      "+------------------+-------+\n",
      "\n"
     ]
    }
   ],
   "source": [
    "df2.select(\"Registration State\").groupBy('Registration State').count().orderBy('count',ascending=False).show(67,truncate=False)"
   ]
  },
  {
   "cell_type": "code",
   "execution_count": 44,
   "metadata": {},
   "outputs": [
    {
     "data": {
      "text/plain": [
       "66"
      ]
     },
     "execution_count": 44,
     "metadata": {},
     "output_type": "execute_result"
    }
   ],
   "source": [
    "df2.select(\"Registration State\").distinct().count()"
   ]
  },
  {
   "cell_type": "code",
   "execution_count": 63,
   "metadata": {},
   "outputs": [
    {
     "name": "stdout",
     "output_type": "stream",
     "text": [
      "+------------------+-------+\n",
      "|Registration State|  count|\n",
      "+------------------+-------+\n",
      "|                NY|8517686|\n",
      "|                NJ| 925965|\n",
      "|                PA| 285419|\n",
      "|                FL| 144556|\n",
      "|                CT| 141088|\n",
      "|                MA|  85547|\n",
      "|                IN|  80749|\n",
      "|                VA|  72626|\n",
      "|                MD|  61800|\n",
      "|                NC|  55806|\n",
      "|                IL|  37329|\n",
      "|                GA|  36852|\n",
      "|                TX|  36516|\n",
      "|                AZ|  26426|\n",
      "|                OH|  25302|\n",
      "|                CA|  24260|\n",
      "|                SC|  21836|\n",
      "|                ME|  21574|\n",
      "|                MN|  18227|\n",
      "|                OK|  18165|\n",
      "+------------------+-------+\n",
      "only showing top 20 rows\n",
      "\n"
     ]
    }
   ],
   "source": [
    "spark.sql(\"SELECT `Registration State`, count(*) as count \\\n",
    "        FROM data group by `Registration State` order by `count` desc\").show()"
   ]
  },
  {
   "cell_type": "code",
   "execution_count": 46,
   "metadata": {},
   "outputs": [],
   "source": [
    "# Aggregation tasks\n",
    "# How often does each violation code occur? Display the frequency of the top five violation codes.\n",
    "# How often does each 'vehicle body type' get a parking ticket? How about the 'vehicle make'?\n",
    "#(Hint: Find the top 5 for both.)"
   ]
  },
  {
   "cell_type": "code",
   "execution_count": 47,
   "metadata": {},
   "outputs": [
    {
     "name": "stdout",
     "output_type": "stream",
     "text": [
      "+--------------+\n",
      "|Violation Code|\n",
      "+--------------+\n",
      "|             7|\n",
      "|             7|\n",
      "|             5|\n",
      "|            47|\n",
      "|            69|\n",
      "+--------------+\n",
      "only showing top 5 rows\n",
      "\n"
     ]
    }
   ],
   "source": [
    "df2.select(\"Violation Code\").show(5)"
   ]
  },
  {
   "cell_type": "code",
   "execution_count": 48,
   "metadata": {},
   "outputs": [
    {
     "name": "stdout",
     "output_type": "stream",
     "text": [
      "+--------------+-------+\n",
      "|Violation Code|count  |\n",
      "+--------------+-------+\n",
      "|21            |1528588|\n",
      "|36            |1400614|\n",
      "|38            |1062304|\n",
      "|14            |893498 |\n",
      "|20            |618593 |\n",
      "+--------------+-------+\n",
      "only showing top 5 rows\n",
      "\n"
     ]
    }
   ],
   "source": [
    "# How often does each violation code occur? Display the frequency of the top five violation codes.\n",
    "df2.select(\"Violation Code\").groupBy(\"Violation Code\").count().orderBy('count',ascending=False).show(5,False)"
   ]
  },
  {
   "cell_type": "code",
   "execution_count": 49,
   "metadata": {},
   "outputs": [
    {
     "name": "stdout",
     "output_type": "stream",
     "text": [
      "+-----------------+-------+\n",
      "|Vehicle Body Type|count  |\n",
      "+-----------------+-------+\n",
      "|SUBN             |3719802|\n",
      "|4DSD             |3082020|\n",
      "|VAN              |1411970|\n",
      "|DELV             |687330 |\n",
      "|SDN              |438191 |\n",
      "+-----------------+-------+\n",
      "only showing top 5 rows\n",
      "\n"
     ]
    }
   ],
   "source": [
    "# How often does each 'vehicle body type' get a parking ticket?\n",
    "df2.select(\"Vehicle Body Type\").groupBy(\"Vehicle Body Type\").count().orderBy('count',ascending=False).show(5,False)"
   ]
  },
  {
   "cell_type": "code",
   "execution_count": 50,
   "metadata": {},
   "outputs": [
    {
     "name": "stdout",
     "output_type": "stream",
     "text": [
      "+------------+-------+\n",
      "|Vehicle Make|count  |\n",
      "+------------+-------+\n",
      "|FORD        |1280958|\n",
      "|TOYOT       |1211451|\n",
      "|HONDA       |1079238|\n",
      "|NISSA       |918590 |\n",
      "|CHEVR       |714655 |\n",
      "+------------+-------+\n",
      "only showing top 5 rows\n",
      "\n"
     ]
    }
   ],
   "source": [
    "# How about the 'vehicle make'?\n",
    "df2.select(\"Vehicle Make\").groupBy(\"Vehicle Make\").count().orderBy('count',ascending=False).show(5,False)"
   ]
  },
  {
   "cell_type": "code",
   "execution_count": 51,
   "metadata": {},
   "outputs": [],
   "source": [
    "# A precinct is a police station that has a certain zone of the city under its command.\n",
    "# Find the (5 highest) frequencies of tickets for each of the following:\n",
    "# 'Violation Precinct' (This is the precinct of the zone where the violation occurred).\n",
    "# Using this, can you draw any insights for parking violations in any specific areas of the city?\n",
    "# 'Issuer Precinct' (This is the precinct that issued the ticket).\n",
    "# Here, you would have noticed that the dataframe has the 'Violating Precinct' or 'Issuing Precinct' as '0'.\n",
    "# These are erroneous entries. Hence, you need to provide the records for five correct precincts.\n",
    "# (Hint: Print the top six entries after sorting.)"
   ]
  },
  {
   "cell_type": "code",
   "execution_count": 53,
   "metadata": {},
   "outputs": [
    {
     "name": "stdout",
     "output_type": "stream",
     "text": [
      "+------------------+-------+\n",
      "|Violation Precinct|count  |\n",
      "+------------------+-------+\n",
      "|0                 |2072400|\n",
      "|19                |535671 |\n",
      "|14                |352450 |\n",
      "|1                 |331810 |\n",
      "|18                |306920 |\n",
      "|114               |296514 |\n",
      "+------------------+-------+\n",
      "only showing top 6 rows\n",
      "\n"
     ]
    }
   ],
   "source": [
    "df2.select(\"Violation Precinct\").groupBy(\"Violation Precinct\").count().orderBy(\"count\",ascending=False).show(6,False)"
   ]
  },
  {
   "cell_type": "code",
   "execution_count": 54,
   "metadata": {},
   "outputs": [
    {
     "name": "stdout",
     "output_type": "stream",
     "text": [
      "+---------------+-------+\n",
      "|Issuer Precinct|count  |\n",
      "+---------------+-------+\n",
      "|0              |2388479|\n",
      "|19             |521513 |\n",
      "|14             |344977 |\n",
      "|1              |321170 |\n",
      "|18             |296553 |\n",
      "|114            |289950 |\n",
      "+---------------+-------+\n",
      "only showing top 6 rows\n",
      "\n"
     ]
    }
   ],
   "source": [
    "df2.select(\"Issuer Precinct\").groupBy(\"Issuer Precinct\").count().orderBy(\"count\",ascending=False).show(6,False)"
   ]
  },
  {
   "cell_type": "code",
   "execution_count": 55,
   "metadata": {},
   "outputs": [],
   "source": [
    "# Find the violation code frequencies for three precincts that have issued the most number of tickets. \n",
    "# Do these precinct zones have an exceptionally high frequency of certain violation codes? \n",
    "# Are these codes common across precincts? (Hint: In the SQL view, use the 'where' attribute to filter \n",
    "# among three precincts.)"
   ]
  },
  {
   "cell_type": "code",
   "execution_count": 56,
   "metadata": {},
   "outputs": [],
   "source": [
    "df2.createOrReplaceTempView(\"data\")"
   ]
  },
  {
   "cell_type": "code",
   "execution_count": 66,
   "metadata": {},
   "outputs": [
    {
     "name": "stdout",
     "output_type": "stream",
     "text": [
      "+---------------+--------------+-------------+\n",
      "|Issuer Precinct|Violation Code|count_tickets|\n",
      "+---------------+--------------+-------------+\n",
      "|             19|            46|        86390|\n",
      "|             19|            37|        72437|\n",
      "|             19|            38|        72344|\n",
      "|             19|            14|        57563|\n",
      "|             19|            21|        54700|\n",
      "+---------------+--------------+-------------+\n",
      "\n"
     ]
    }
   ],
   "source": [
    "spark.sql(\"SELECT `Issuer Precinct`, `Violation Code`, count(*) as count_tickets \\\n",
    "                    FROM data where `Issuer Precinct` = '19'\\\n",
    "                    group by `Issuer Precinct`, `Violation Code` \\\n",
    "                    order by `count_tickets` desc limit 5\").show()"
   ]
  },
  {
   "cell_type": "code",
   "execution_count": 67,
   "metadata": {},
   "outputs": [
    {
     "name": "stdout",
     "output_type": "stream",
     "text": [
      "+---------------+--------------+-------------+\n",
      "|Issuer Precinct|Violation Code|count_tickets|\n",
      "+---------------+--------------+-------------+\n",
      "|             14|            14|        73837|\n",
      "|             14|            69|        58026|\n",
      "|             14|            31|        39857|\n",
      "|             14|            47|        30540|\n",
      "|             14|            42|        20663|\n",
      "+---------------+--------------+-------------+\n",
      "\n"
     ]
    }
   ],
   "source": [
    "spark.sql(\"SELECT `Issuer Precinct`, `Violation Code`, count(*) as count_tickets \\\n",
    "                    FROM data where `Issuer Precinct` = '14'\\\n",
    "                    group by `Issuer Precinct`, `Violation Code` \\\n",
    "                    order by `count_tickets` desc limit 5\").show()"
   ]
  },
  {
   "cell_type": "code",
   "execution_count": 68,
   "metadata": {},
   "outputs": [
    {
     "name": "stdout",
     "output_type": "stream",
     "text": [
      "+---------------+--------------+-------------+\n",
      "|Issuer Precinct|Violation Code|count_tickets|\n",
      "+---------------+--------------+-------------+\n",
      "|              1|            14|        73522|\n",
      "|              1|            16|        38937|\n",
      "|              1|            20|        27841|\n",
      "|              1|            46|        22534|\n",
      "|              1|            38|        16989|\n",
      "+---------------+--------------+-------------+\n",
      "\n"
     ]
    }
   ],
   "source": [
    "spark.sql(\"SELECT `Issuer Precinct`, `Violation Code`, count(*) as count_tickets \\\n",
    "                    FROM data where `Issuer Precinct` = '1'\\\n",
    "                    group by `Issuer Precinct`, `Violation Code` \\\n",
    "                    order by `count_tickets` desc limit 5\").show()"
   ]
  },
  {
   "cell_type": "code",
   "execution_count": 69,
   "metadata": {},
   "outputs": [],
   "source": [
    "#Violation code 14 is common."
   ]
  },
  {
   "cell_type": "code",
   "execution_count": 70,
   "metadata": {},
   "outputs": [],
   "source": [
    "# Find out the properties of parking violations across different times of the day:\n",
    "# Find a way to deal with missing values, if any. (Hint: Check for the null values using\n",
    "#'isNull' under the SQL. Also, to remove the null values, check the 'dropna' command in the API documentation.)\n",
    "# The Violation Time field is specified in a strange format. Find a way to make this a time attribute that you \n",
    "# can use to divide into groups.\n",
    "# Divide 24 hours into six equal discrete bins of time. Choose the intervals as you see fit. For each of these \n",
    "# groups, find the three most commonly occurring violations. (Hint: Use the CASE-WHEN in SQL view to segregate \n",
    "# into bins. To find the most commonly occurring violations, you can use an approach similar to the one mentioned \n",
    "# in the hint for question 4.)\n",
    "# Now, try another direction. For the three most commonly occurring violation codes, find the most common \n",
    "# time of the day (in terms of the bins from the previous part)."
   ]
  },
  {
   "cell_type": "code",
   "execution_count": null,
   "metadata": {},
   "outputs": [],
   "source": []
  }
 ],
 "metadata": {
  "kernelspec": {
   "display_name": "Python 3",
   "language": "python",
   "name": "python3"
  },
  "language_info": {
   "codemirror_mode": {
    "name": "ipython",
    "version": 3
   },
   "file_extension": ".py",
   "mimetype": "text/x-python",
   "name": "python",
   "nbconvert_exporter": "python",
   "pygments_lexer": "ipython3",
   "version": "3.8.5"
  }
 },
 "nbformat": 4,
 "nbformat_minor": 4
}
